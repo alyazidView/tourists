{
 "cells": [
  {
   "cell_type": "code",
   "execution_count": null,
   "metadata": {},
   "outputs": [],
   "source": [
    "# Libraries\n",
    "import pandas as pd\n",
    "import numpy as np\n",
    "import matplotlib.pyplot as plt\n",
    "import seaborn as sns\n"
   ]
  },
  {
   "cell_type": "code",
   "execution_count": null,
   "metadata": {},
   "outputs": [],
   "source": [
    "##"
   ]
  },
  {
   "cell_type": "code",
   "execution_count": null,
   "metadata": {},
   "outputs": [],
   "source": [
    "# histogram\n",
    "#Histograms are important so we can see the distribuition for each variable and verify the existence of outliers. An outlier is an observation that lies an abnormal distance from other values in a dataset.\n",
    "\n",
    "df.hist(bins=15, figsize=(15,10));"
   ]
  },
  {
   "cell_type": "code",
   "execution_count": null,
   "metadata": {},
   "outputs": [],
   "source": [
    "# Canada, Quebec City Dataframe (Main City)\n",
    "df=pd.read_csv('./data/listings.csv')"
   ]
  },
  {
   "cell_type": "code",
   "execution_count": null,
   "metadata": {},
   "outputs": [],
   "source": [
    "#Check the data types of each attribute\n",
    "df.dtypes\n"
   ]
  },
  {
   "cell_type": "code",
   "execution_count": null,
   "metadata": {},
   "outputs": [],
   "source": [
    "df.head(10)\n",
    "#After looking at the head of the dataset we were already able to notice some NaN values, \n",
    "# therefore we need to examine the missing values further before continuing with analysis."
   ]
  },
  {
   "cell_type": "code",
   "execution_count": null,
   "metadata": {},
   "outputs": [],
   "source": [
    "df.describe()"
   ]
  },
  {
   "cell_type": "code",
   "execution_count": null,
   "metadata": {},
   "outputs": [],
   "source": [
    "#The columns last_review and review_per_month need very simple handling. To elaborate: last_review is a date; if there were no reviews for the listing, the date will not exist. In our case, this column is irrelevant to our analysis.\n",
    "\n",
    "##For the review_per_month column, we can simply append it with 0.0 for missing values (null values); we can see that number_of_reviews will have a 0, therefore following this logic with 0 total reviews there will be a 0.0 rate of reviews per month.\n",
    "\n",
    "##The column neighbourhood_group does not present any values in the entire dataset, so it can be removed as well."
   ]
  },
  {
   "cell_type": "code",
   "execution_count": null,
   "metadata": {},
   "outputs": [],
   "source": [
    "#dropping columns that are not significant for future data exploration\n",
    "df.drop(['host_name','last_review','neighbourhood_group'], axis=1, inplace=True)\n",
    "\n",
    "#replacing all NaN values in 'reviews_per_month' with 0\n",
    "df.fillna({'reviews_per_month':0}, inplace=True)\n",
    "\n",
    "#examing the changes\n",
    "df.head(10)"
   ]
  },
  {
   "cell_type": "code",
   "execution_count": null,
   "metadata": {},
   "outputs": [],
   "source": [
    "#questions \n",
    "#Which property types are the most listed in Airbnb in Canda?\n",
    "#What’s the average listing price by property types?\n",
    "#Which neighborhoods have the most expensive listing prices on average?"
   ]
  },
  {
   "cell_type": "code",
   "execution_count": null,
   "metadata": {},
   "outputs": [],
   "source": [
    "# number of listings by type of property\n",
    "df.room_type.value_counts()"
   ]
  },
  {
   "cell_type": "code",
   "execution_count": null,
   "metadata": {},
   "outputs": [],
   "source": [
    "#Room type percentage\n",
    "room_per = df.room_type.value_counts() / df.shape[0] *100\n",
    "print(room_per)"
   ]
  },
  {
   "cell_type": "code",
   "execution_count": null,
   "metadata": {},
   "outputs": [],
   "source": [
    "#The exploratory analysis above highlights some interesting trends and data,\n",
    "# allowing us to take a closer look at the Airbnb listings\n",
    "# . As we went through the data exploration steps, we reach the following conclusions:\n",
    "\n",
    "The ........... high-priced place to stay  on average.\n",
    "Entire rooms/apartments are the most common room type, as well as the most expensive to afford.\n",
    "The majority of the listings are located in the districts of , as well as the most expensive. \n",
    "\n",
    "\n",
    "\n",
    "3"
   ]
  },
  {
   "cell_type": "code",
   "execution_count": null,
   "metadata": {},
   "outputs": [],
   "source": []
  }
 ],
 "metadata": {
  "kernelspec": {
   "display_name": "Python 3.9.12 ('base')",
   "language": "python",
   "name": "python3"
  },
  "language_info": {
   "codemirror_mode": {
    "name": "ipython",
    "version": 3
   },
   "file_extension": ".py",
   "mimetype": "text/x-python",
   "name": "python",
   "nbconvert_exporter": "python",
   "pygments_lexer": "ipython3",
   "version": "3.9.12"
  },
  "orig_nbformat": 4,
  "vscode": {
   "interpreter": {
    "hash": "d4d1e4263499bec80672ea0156c357c1ee493ec2b1c70f0acce89fc37c4a6abe"
   }
  }
 },
 "nbformat": 4,
 "nbformat_minor": 2
}
