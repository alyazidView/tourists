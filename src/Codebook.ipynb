{
 "cells": [
  {
   "cell_type": "code",
   "execution_count": null,
   "metadata": {},
   "outputs": [],
   "source": [
    "# Libraries\n",
    "import pandas as pd\n",
    "import numpy as np\n",
    "import matplotlib.pyplot as plt\n",
    "import seaborn as sns\n",
    "import statsmodels as sm\n",
    "import branca.colormap as cmp\n",
    "import folium\n",
    "import shapely\n",
    "import plotly.express as px\n",
    "from matplotlib import colors"
   ]
  },
  {
   "cell_type": "markdown",
   "metadata": {},
   "source": [
    "Importing the Data and Exploration:"
   ]
  },
  {
   "cell_type": "code",
   "execution_count": null,
   "metadata": {},
   "outputs": [],
   "source": [
    "# Canada, Quebec City Dataframe (Main City)\n",
    "#df, summary data frame\n",
    "df=pd.read_csv('../data/canada/listings.csv')\n",
    "#dfd, detailed data frame\n",
    "dfd=pd.read_csv('../data/canada/detailed_listing.csv')"
   ]
  },
  {
   "cell_type": "code",
   "execution_count": null,
   "metadata": {},
   "outputs": [],
   "source": [
    "# Sample 10 Rows (Summary)\n",
    "df.head(10)"
   ]
  },
  {
   "cell_type": "code",
   "execution_count": null,
   "metadata": {},
   "outputs": [],
   "source": [
    "# Sample 10 Rows\n",
    "df.head(10)"
   ]
  },
  {
   "cell_type": "code",
   "execution_count": null,
   "metadata": {},
   "outputs": [],
   "source": [
    "# Correlation heatmap for summary\n",
    "df.corr().style.background_gradient(cmap='coolwarm')"
   ]
  },
  {
   "cell_type": "code",
   "execution_count": null,
   "metadata": {},
   "outputs": [],
   "source": [
    "# Correlation heatmap for detailed\n",
    "dfd.corr().style.background_gradient(cmap='coolwarm')"
   ]
  },
  {
   "cell_type": "code",
   "execution_count": null,
   "metadata": {},
   "outputs": [],
   "source": [
    "# review score correlation\n",
    "dfr = dfd.iloc[:,61:67]\n",
    "dfr.corr()"
   ]
  },
  {
   "cell_type": "markdown",
   "metadata": {},
   "source": [
    "Data Cleaning:"
   ]
  },
  {
   "cell_type": "code",
   "execution_count": null,
   "metadata": {},
   "outputs": [],
   "source": [
    "# Remove coloumn 'neighbourhood_group' and 'license'  because it's all NaN\n",
    "df.drop(['neighbourhood_group','license'], axis=1, inplace=True)"
   ]
  },
  {
   "cell_type": "code",
   "execution_count": null,
   "metadata": {},
   "outputs": [],
   "source": [
    "# Sorts and ranks neighborhood by mean price \n",
    "neig = df[['price','neighbourhood']].groupby('neighbourhood').mean()\n",
    "neig = neig.sort_values('price')\n",
    "neig['rank'] = np.arange(len(neig)) + 1\n",
    "neig = neig.reset_index(level=0)\n"
   ]
  },
  {
   "cell_type": "markdown",
   "metadata": {},
   "source": [
    "Plotting (Mapping w/o Folium, Mapping w/ Folium, Bar Chart):"
   ]
  },
  {
   "cell_type": "code",
   "execution_count": null,
   "metadata": {},
   "outputs": [],
   "source": [
    "\n",
    "# Mapping without folium\n",
    "\n",
    "# Set bounds\n",
    "BBox = ((df.longitude.min(),   df.longitude.max(), df.latitude.min(), df.latitude.max()))\n",
    "# Import Image\n",
    "ruh_m = plt.imread('../data/canada/map.png')\n",
    "# Plot Data on Map (Draft v1)\n",
    "fig, ax = plt.subplots(figsize = (10,10))\n",
    "ax.scatter(df.longitude, df.latitude, zorder=1, alpha= 0.2, c='b', s=10)\n",
    "ax.set_title('Plotting Spatial Data on Montreal Map')\n",
    "ax.set_xlabel('Latitude')\n",
    "ax.set_label('Longitude')\n",
    "ax.set_xlim(BBox[0],BBox[1])\n",
    "ax.set_ylim(BBox[2],BBox[3])\n",
    "ax.imshow(ruh_m, zorder=0, extent = BBox, aspect= 'equal')"
   ]
  },
  {
   "cell_type": "markdown",
   "metadata": {},
   "source": [
    "... we noticed most of the listing are on the East Side so we decided to make a prices heatmap for better detail."
   ]
  },
  {
   "cell_type": "code",
   "execution_count": null,
   "metadata": {},
   "outputs": [],
   "source": [
    "# Mapping with folium + heatmap\n",
    "\n",
    "map_osm = folium.Map(location=[df['latitude'].mean() , df['longitude'].mean()] , zoom_start=10)\n",
    "temp = df[df['price'] < 500]\n",
    "obs = list(zip(temp['latitude'], temp['longitude'], temp['price']))\n",
    "room_types = df['room_type'].unique()\n",
    "color_dict = dict(zip(room_types, list(colors.cnames.values())[0:len(room_types)]))\n",
    "linear = cmp.LinearColormap(['yellow','green', 'purple'], vmin = df.price.min(), vmax=500)\n",
    "for el in obs:\n",
    "    folium.Circle(el[0:2], radius=4, color=linear(el[2]), opacity=0.2).add_to(map_osm)\n",
    "map_osm\n"
   ]
  },
  {
   "cell_type": "markdown",
   "metadata": {},
   "source": [
    "... Downtown Montreal and Montreal's East Waterfront is where the listings are highest in price"
   ]
  },
  {
   "cell_type": "code",
   "execution_count": null,
   "metadata": {},
   "outputs": [],
   "source": [
    "# Room Type Bar Plot\n",
    "\n",
    "plot3=sns.barplot(x='room_type', y='price',data=df)\n",
    "plot3.set(xlabel='Room Type', ylabel='Average Price',title='Room Type Average Price in Montreal')\n",
    "plt.show()"
   ]
  },
  {
   "cell_type": "markdown",
   "metadata": {},
   "source": [
    "... buying an entire apartment/home would be the ideal choice since there's a high demand for both an renting the entire place or even a private room in case the investor is living there themselves."
   ]
  }
 ],
 "metadata": {
  "kernelspec": {
   "display_name": "Python 3.9.12 ('base')",
   "language": "python",
   "name": "python3"
  },
  "language_info": {
   "codemirror_mode": {
    "name": "ipython",
    "version": 3
   },
   "file_extension": ".py",
   "mimetype": "text/x-python",
   "name": "python",
   "nbconvert_exporter": "python",
   "pygments_lexer": "ipython3",
   "version": "3.9.12"
  },
  "orig_nbformat": 4,
  "vscode": {
   "interpreter": {
    "hash": "d4d1e4263499bec80672ea0156c357c1ee493ec2b1c70f0acce89fc37c4a6abe"
   }
  }
 },
 "nbformat": 4,
 "nbformat_minor": 2
}
