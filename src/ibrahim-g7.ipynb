{
 "cells": [
  {
   "cell_type": "code",
   "execution_count": 15,
   "metadata": {},
   "outputs": [],
   "source": [
    "# Libraries\n",
    "import pandas as pd\n",
    "import numpy as np\n",
    "import matplotlib.pyplot as plt\n",
    "import seaborn as sns\n",
    "import statsmodels as sm "
   ]
  },
  {
   "cell_type": "code",
   "execution_count": 16,
   "metadata": {},
   "outputs": [],
   "source": [
    "df = pd.read_csv('../data/canada/listings.csv')"
   ]
  },
  {
   "cell_type": "code",
   "execution_count": 17,
   "metadata": {},
   "outputs": [
    {
     "name": "stdout",
     "output_type": "stream",
     "text": [
      "<class 'pandas.core.frame.DataFrame'>\n",
      "RangeIndex: 13621 entries, 0 to 13620\n",
      "Data columns (total 18 columns):\n",
      " #   Column                          Non-Null Count  Dtype  \n",
      "---  ------                          --------------  -----  \n",
      " 0   id                              13621 non-null  int64  \n",
      " 1   name                            13617 non-null  object \n",
      " 2   host_id                         13621 non-null  int64  \n",
      " 3   host_name                       13620 non-null  object \n",
      " 4   neighbourhood_group             0 non-null      float64\n",
      " 5   neighbourhood                   13621 non-null  object \n",
      " 6   latitude                        13621 non-null  float64\n",
      " 7   longitude                       13621 non-null  float64\n",
      " 8   room_type                       13621 non-null  object \n",
      " 9   price                           13621 non-null  int64  \n",
      " 10  minimum_nights                  13621 non-null  int64  \n",
      " 11  number_of_reviews               13621 non-null  int64  \n",
      " 12  last_review                     11047 non-null  object \n",
      " 13  reviews_per_month               11047 non-null  float64\n",
      " 14  calculated_host_listings_count  13621 non-null  int64  \n",
      " 15  availability_365                13621 non-null  int64  \n",
      " 16  number_of_reviews_ltm           13621 non-null  int64  \n",
      " 17  license                         881 non-null    object \n",
      "dtypes: float64(4), int64(8), object(6)\n",
      "memory usage: 1.9+ MB\n"
     ]
    }
   ],
   "source": [
    "df.info()\n",
    "#13621 observation and 18 variables\n",
    "#note the neighbourhood_group has al it entries as null value "
   ]
  },
  {
   "cell_type": "code",
   "execution_count": 27,
   "metadata": {},
   "outputs": [],
   "source": [
    "#dropping the neighbourhood_group \n",
    "df.drop('neighbourhood_group', axis =1, inplace=True)"
   ]
  },
  {
   "cell_type": "code",
   "execution_count": 19,
   "metadata": {},
   "outputs": [
    {
     "data": {
      "text/plain": [
       "(512,\n",
       " array([nan, '261 026', '305995', '271530', '310728', '249454',\n",
       "        '735374308RT0001', '307546', '310331',\n",
       "        'Numéro établissement CITQ :\\xa0263966', '221373', '1169743656',\n",
       "        '266641', '263141', '257530', '306072', '301568', '308396',\n",
       "        '307397', '299969', '303664', '308905', 'CITQ:267234', '286775',\n",
       "        '307396', '301286', 'CITQ#304975', '304909', '281470', '306732',\n",
       "        '304615', '306955', '281282', '299353', '274201', '303170',\n",
       "        'No CITQ: 305895', '275601', '230370', '301128', '307763',\n",
       "        '300651', '307822', '309323', '297531', '303164', 'Citq305642',\n",
       "        '302264', 'CITQ # 247671', 'CITQ # 272241', 'CITQ # 279355',\n",
       "        '289785', '307329', '218105', '279300', '305171', '222528',\n",
       "        '308163', 'CITQ # 286731', '277922', '280350', '310063',\n",
       "        'CITQ # 286720', '279915', '308907', 'CITQ 282262', 'CITQ:#309495',\n",
       "        '286904', '308210', '302655', 'CITQ # 292353', '296323', '295699',\n",
       "        '294243', 'CITQ # 309935', '296619', 'CITQ #291885', '308641',\n",
       "        '305775', '294434', '307325', '296126', '221665', '310044',\n",
       "        '309825', '298468', '305722', '294425', 'REF-62323', '1177495828',\n",
       "        '308148', '1087803194', '298467', '294386', '307792', '300392',\n",
       "        '298723', '294744', '296111', '308263', '296297', '306607',\n",
       "        '295173', '305889', 'CITQ # 295227', '521636', '301991', '298717',\n",
       "        'CITQ #292353', '296110', '298469', '294845', '295154', '307474',\n",
       "        '307067', '281282 & 281470', 'Établissement no 305967', '296159',\n",
       "        '301142', 'CITQ # 295320', '301521', '306503', '294621',\n",
       "        '3003080903', '296088', '307032', '304905', '296511', '310029',\n",
       "        'CITQ approved establishment # 296183', '307203', '295674',\n",
       "        '11166743', '306853', '301418', '296277', 'CITQ # 309442',\n",
       "        '296468', '253352', '296659', '306553',\n",
       "        'CITQ Etablissement # 300239', '297470', '296326', '294253',\n",
       "        '301598', '2274801275', '000000', '297016', '302939', '308936',\n",
       "        '3028770987', '305058', 'CITQ # 296525', '307198', '299582',\n",
       "        '306474', '184380', '308716', 'CITQ#300050', '307784', '310162',\n",
       "        '297557', '309836', '307979', '294759', '301596', '300080',\n",
       "        '301727', '309706', 'Establishment # 298817 - LE MILTON PLACE',\n",
       "        '304205', '309565', '307731', '298040', '296204', '304350',\n",
       "        'CITQ 297548', '301143', '307972', '308594', '298613', '270653',\n",
       "        '297596', '706294501', '308109', '299593', '267466', '0673477320',\n",
       "        'Établissement no 309360', '301940', '308703', '307991',\n",
       "        'CITQ #304391', '311025', '305688', '539280', '307789', '289951',\n",
       "        '301259', '307724', '310022', '296120', 'citq298363', '305984',\n",
       "        '307766', 'CITQ 298091', '304816', '2269584985', '#306100',\n",
       "        '300977', '115706', '299902', '298514', '308120', '301564',\n",
       "        '306657', '297744', '295748', '299486', '306571', 'CITQ # 298841',\n",
       "        '294694', '298638', '275785', '283150', '307551', '304991',\n",
       "        '298649', '305414', 'CITQ299017', '307575', '6373826262', '307782',\n",
       "        '304852', '302243', '299626', '304007', '308736', '300817',\n",
       "        '304952', '298973', '307357', '299867', '301157', '141525',\n",
       "        'CITQ - 310434', '747595536RT0001', '302001-2', '304969', '302172',\n",
       "        'CITQ : 299589', '309757', '297973', '299399', '305120', '297941',\n",
       "        '271191', '274481', '309773', '1111111111111', '308151', '302610',\n",
       "        '514 835 2733', '299637', '303024', '301885', '299531',\n",
       "        '514 6638947', '0000', '111111111', '299857', '302378', '304989',\n",
       "        'Établissement no 305498', 'Établissement no 307730', '307291',\n",
       "        '26770', '302794', '302227', '305696', '726770', '299833',\n",
       "        '195591', '307672', '295222', '298284', '302271', '307282',\n",
       "        '308698', '308232', '514-473-6697', '309686', '301206', '304447',\n",
       "        '291701', 'RP-13778', '301392', '306832', '307453', '306267',\n",
       "        '307417', '4052133456098', '307168', '300796', 'CITQ#300051',\n",
       "        '310025', '233590', 'Not required', '305713', '300476', '300293',\n",
       "        '280980', 'CITQ # 308257', '295000', 'CITQ 306067', '306009',\n",
       "        '5146016210', '302656', '101289', '438-875-7066', '310539',\n",
       "        '306084', '297689', '309310', '304216', '305982', '299398',\n",
       "        '8246 4485 RC0001', '305420', '5149991392', 'Dispensé', '304693',\n",
       "        '4383899949', '301038', '308884', '731483806', '30041', '295196',\n",
       "        '309445 CITQ', '307725', '222299', '226251', 'CITQ 302608',\n",
       "        '306610', '306388', '308596', '579471', '305290', '306814',\n",
       "        '308118', '294248', '306289', '309141', 'CITQ 305845', '304367',\n",
       "        '305877', '305137', '305741', '305206', '307832', '308324',\n",
       "        '306567', 'CITQ: 306046', '58048', '306558', '309959',\n",
       "        '4509183512', '306193', '306541', '305506', '309414', '5146997377',\n",
       "        '307481', '307543', '302195', '306779', '307476', '309093',\n",
       "        '307849', '305118', '5146048126', '306822', '310263', '307103',\n",
       "        '307207', '5145667763', '4388664243', 'No CITQ - 307081',\n",
       "        '514-717-0791', '305256', '300435', '310522', '306820', '306532',\n",
       "        '309429', '306378', '299983', '5146594004', '1177426989',\n",
       "        '9427-1186 Quebec inc.', '307273', '5147460906', '.', '309805',\n",
       "        '307861', '290365816', '307022', '438-935-0550', '309852',\n",
       "        '309783', '308103', '246481', '111705', '309322', 'ARAA87101114',\n",
       "        'CITQ 306532', 'CITQ# 309572', '309289', '#CITQ 302676',\n",
       "        'CITQ  306386', '310078', '295223', '310305', '310061', '310949',\n",
       "        '302907', '307148460', '300203072', '310047', '310942',\n",
       "        'CITQ: 309754', '309944', 'HX982608', '305951', '308317',\n",
       "        'CITQ # 309774', '309510', '296945', '306197', '306143', '306125',\n",
       "        '305887', '310844', 'RP-13773', 'RP-13804', 'NY26113', 'RP-13803',\n",
       "        'RP-13809', 'RP-13785', 'RP-13802', 'RP-13799', 'RP-13811',\n",
       "        '310379', 'RP-13794', 'RP-13771',\n",
       "        'Établissement hébergement CITQ #310402', '310579', '5633789',\n",
       "        '310288', '7782684114', '310445', '12345', '310518', '5144769009',\n",
       "        '310853', '2021-BFN-0103622', '310702', '309415', '906750990',\n",
       "        'CITQ #\\xa0301398', 'RP -13824', 'RP-13813', '297731', '310890',\n",
       "        '310887', '306997', '5149980662', '5149700791', '306539', '308260',\n",
       "        '304181', '306387', '309417', '4388336558', '306231',\n",
       "        'CITQ # 308713', 'NEQ2273170441', '301255', 'CITQ REF 305315',\n",
       "        '304885', 'citq300717', 'CITQ 208983', '60989', '308499', '306770',\n",
       "        '746531', '2748274828382', 'CITQ307028', '305661', '309366',\n",
       "        '310242', '308139', '300240', '43844996355', '308321', '294499',\n",
       "        '308849', '301444', '310686', '304959', 'CITQ 305209'],\n",
       "       dtype=object))"
      ]
     },
     "execution_count": 19,
     "metadata": {},
     "output_type": "execute_result"
    }
   ],
   "source": [
    "#512 differnt licenses \n",
    "len(df.license.unique()) ,df.license.unique()\n"
   ]
  },
  {
   "cell_type": "code",
   "execution_count": 28,
   "metadata": {},
   "outputs": [
    {
     "data": {
      "text/html": [
       "<div>\n",
       "<style scoped>\n",
       "    .dataframe tbody tr th:only-of-type {\n",
       "        vertical-align: middle;\n",
       "    }\n",
       "\n",
       "    .dataframe tbody tr th {\n",
       "        vertical-align: top;\n",
       "    }\n",
       "\n",
       "    .dataframe thead th {\n",
       "        text-align: right;\n",
       "    }\n",
       "</style>\n",
       "<table border=\"1\" class=\"dataframe\">\n",
       "  <thead>\n",
       "    <tr style=\"text-align: right;\">\n",
       "      <th></th>\n",
       "      <th>id</th>\n",
       "      <th>host_id</th>\n",
       "      <th>latitude</th>\n",
       "      <th>longitude</th>\n",
       "      <th>price</th>\n",
       "      <th>minimum_nights</th>\n",
       "      <th>number_of_reviews</th>\n",
       "      <th>reviews_per_month</th>\n",
       "      <th>calculated_host_listings_count</th>\n",
       "      <th>availability_365</th>\n",
       "      <th>number_of_reviews_ltm</th>\n",
       "    </tr>\n",
       "  </thead>\n",
       "  <tbody>\n",
       "    <tr>\n",
       "      <th>count</th>\n",
       "      <td>1.362100e+04</td>\n",
       "      <td>1.362100e+04</td>\n",
       "      <td>13621.000000</td>\n",
       "      <td>13621.000000</td>\n",
       "      <td>13621.000000</td>\n",
       "      <td>13621.000000</td>\n",
       "      <td>13621.000000</td>\n",
       "      <td>11047.000000</td>\n",
       "      <td>13621.000000</td>\n",
       "      <td>13621.000000</td>\n",
       "      <td>13621.000000</td>\n",
       "    </tr>\n",
       "    <tr>\n",
       "      <th>mean</th>\n",
       "      <td>1.663965e+17</td>\n",
       "      <td>1.496673e+08</td>\n",
       "      <td>45.514491</td>\n",
       "      <td>-73.591639</td>\n",
       "      <td>169.029073</td>\n",
       "      <td>15.623523</td>\n",
       "      <td>23.994200</td>\n",
       "      <td>1.498029</td>\n",
       "      <td>10.141473</td>\n",
       "      <td>128.566405</td>\n",
       "      <td>8.402760</td>\n",
       "    </tr>\n",
       "    <tr>\n",
       "      <th>std</th>\n",
       "      <td>2.833332e+17</td>\n",
       "      <td>1.459350e+08</td>\n",
       "      <td>0.032831</td>\n",
       "      <td>0.051336</td>\n",
       "      <td>958.044866</td>\n",
       "      <td>108.486987</td>\n",
       "      <td>49.724181</td>\n",
       "      <td>1.873254</td>\n",
       "      <td>24.852071</td>\n",
       "      <td>133.881257</td>\n",
       "      <td>16.396578</td>\n",
       "    </tr>\n",
       "    <tr>\n",
       "      <th>min</th>\n",
       "      <td>2.843000e+03</td>\n",
       "      <td>2.319000e+03</td>\n",
       "      <td>45.382600</td>\n",
       "      <td>-73.974520</td>\n",
       "      <td>0.000000</td>\n",
       "      <td>1.000000</td>\n",
       "      <td>0.000000</td>\n",
       "      <td>0.010000</td>\n",
       "      <td>1.000000</td>\n",
       "      <td>0.000000</td>\n",
       "      <td>0.000000</td>\n",
       "    </tr>\n",
       "    <tr>\n",
       "      <th>25%</th>\n",
       "      <td>2.179813e+07</td>\n",
       "      <td>2.497750e+07</td>\n",
       "      <td>45.495850</td>\n",
       "      <td>-73.604150</td>\n",
       "      <td>65.000000</td>\n",
       "      <td>1.000000</td>\n",
       "      <td>1.000000</td>\n",
       "      <td>0.160000</td>\n",
       "      <td>1.000000</td>\n",
       "      <td>0.000000</td>\n",
       "      <td>0.000000</td>\n",
       "    </tr>\n",
       "    <tr>\n",
       "      <th>50%</th>\n",
       "      <td>3.950434e+07</td>\n",
       "      <td>9.503213e+07</td>\n",
       "      <td>45.516270</td>\n",
       "      <td>-73.578870</td>\n",
       "      <td>109.000000</td>\n",
       "      <td>2.000000</td>\n",
       "      <td>6.000000</td>\n",
       "      <td>0.730000</td>\n",
       "      <td>2.000000</td>\n",
       "      <td>79.000000</td>\n",
       "      <td>1.000000</td>\n",
       "    </tr>\n",
       "    <tr>\n",
       "      <th>75%</th>\n",
       "      <td>5.516946e+17</td>\n",
       "      <td>2.419049e+08</td>\n",
       "      <td>45.532630</td>\n",
       "      <td>-73.564110</td>\n",
       "      <td>176.000000</td>\n",
       "      <td>21.000000</td>\n",
       "      <td>24.000000</td>\n",
       "      <td>2.210000</td>\n",
       "      <td>6.000000</td>\n",
       "      <td>258.000000</td>\n",
       "      <td>9.000000</td>\n",
       "    </tr>\n",
       "    <tr>\n",
       "      <th>max</th>\n",
       "      <td>7.137874e+17</td>\n",
       "      <td>4.789758e+08</td>\n",
       "      <td>45.713800</td>\n",
       "      <td>-73.481630</td>\n",
       "      <td>105634.000000</td>\n",
       "      <td>11684.000000</td>\n",
       "      <td>734.000000</td>\n",
       "      <td>24.730000</td>\n",
       "      <td>183.000000</td>\n",
       "      <td>365.000000</td>\n",
       "      <td>251.000000</td>\n",
       "    </tr>\n",
       "  </tbody>\n",
       "</table>\n",
       "</div>"
      ],
      "text/plain": [
       "                 id       host_id      latitude     longitude          price  \\\n",
       "count  1.362100e+04  1.362100e+04  13621.000000  13621.000000   13621.000000   \n",
       "mean   1.663965e+17  1.496673e+08     45.514491    -73.591639     169.029073   \n",
       "std    2.833332e+17  1.459350e+08      0.032831      0.051336     958.044866   \n",
       "min    2.843000e+03  2.319000e+03     45.382600    -73.974520       0.000000   \n",
       "25%    2.179813e+07  2.497750e+07     45.495850    -73.604150      65.000000   \n",
       "50%    3.950434e+07  9.503213e+07     45.516270    -73.578870     109.000000   \n",
       "75%    5.516946e+17  2.419049e+08     45.532630    -73.564110     176.000000   \n",
       "max    7.137874e+17  4.789758e+08     45.713800    -73.481630  105634.000000   \n",
       "\n",
       "       minimum_nights  number_of_reviews  reviews_per_month  \\\n",
       "count    13621.000000       13621.000000       11047.000000   \n",
       "mean        15.623523          23.994200           1.498029   \n",
       "std        108.486987          49.724181           1.873254   \n",
       "min          1.000000           0.000000           0.010000   \n",
       "25%          1.000000           1.000000           0.160000   \n",
       "50%          2.000000           6.000000           0.730000   \n",
       "75%         21.000000          24.000000           2.210000   \n",
       "max      11684.000000         734.000000          24.730000   \n",
       "\n",
       "       calculated_host_listings_count  availability_365  number_of_reviews_ltm  \n",
       "count                    13621.000000      13621.000000           13621.000000  \n",
       "mean                        10.141473        128.566405               8.402760  \n",
       "std                         24.852071        133.881257              16.396578  \n",
       "min                          1.000000          0.000000               0.000000  \n",
       "25%                          1.000000          0.000000               0.000000  \n",
       "50%                          2.000000         79.000000               1.000000  \n",
       "75%                          6.000000        258.000000               9.000000  \n",
       "max                        183.000000        365.000000             251.000000  "
      ]
     },
     "execution_count": 28,
     "metadata": {},
     "output_type": "execute_result"
    }
   ],
   "source": [
    "df.describe()"
   ]
  },
  {
   "cell_type": "code",
   "execution_count": 50,
   "metadata": {},
   "outputs": [
    {
     "data": {
      "text/plain": [
       "id                                 object\n",
       "name                               object\n",
       "host_id                            object\n",
       "host_name                          object\n",
       "neighbourhood                      object\n",
       "latitude                          float64\n",
       "longitude                         float64\n",
       "room_type                          object\n",
       "price                               int64\n",
       "minimum_nights                      int64\n",
       "number_of_reviews                   int64\n",
       "last_review                        object\n",
       "reviews_per_month                 float64\n",
       "calculated_host_listings_count      int64\n",
       "availability_365                    int64\n",
       "number_of_reviews_ltm               int64\n",
       "license                            object\n",
       "dtype: object"
      ]
     },
     "execution_count": 50,
     "metadata": {},
     "output_type": "execute_result"
    }
   ],
   "source": [
    "df.dtypes\n",
    "#id, id_host are int variabe,most likely they are not used in graph or any mathematical operation\n",
    "#I will change them to string type.\n",
    "df['id'] = df['id'].astype(str)\n",
    "df['host_id'] = df['host_id'].astype(str)\n",
    "df.dtypes"
   ]
  },
  {
   "cell_type": "code",
   "execution_count": 43,
   "metadata": {},
   "outputs": [
    {
     "data": {
      "text/plain": [
       "7"
      ]
     },
     "execution_count": 43,
     "metadata": {},
     "output_type": "execute_result"
    },
    {
     "data": {
      "image/png": "[encoded data removed]",
      "text/plain": [
       "<Figure size 640x480 with 1 Axes>"
      ]
     },
     "metadata": {},
     "output_type": "display_data"
    }
   ],
   "source": [
    "#The variation in price is high, the distribution of prices is:\n",
    "sns.histplot( x= 'price', \n",
    "data = df, \n",
    "binrange=[0,5000])\n",
    "#The histogram here shows the range from [0, 5000], the number of data not included \n",
    "#in the histogram is: 7\n",
    "df[df['price'] > 5000].count()['price']\n",
    "#The distribution of price seems to be right skewed. "
   ]
  },
  {
   "cell_type": "code",
   "execution_count": 90,
   "metadata": {},
   "outputs": [
    {
     "data": {
      "text/html": [
       "<div>\n",
       "<style scoped>\n",
       "    .dataframe tbody tr th:only-of-type {\n",
       "        vertical-align: middle;\n",
       "    }\n",
       "\n",
       "    .dataframe tbody tr th {\n",
       "        vertical-align: top;\n",
       "    }\n",
       "\n",
       "    .dataframe thead tr th {\n",
       "        text-align: left;\n",
       "    }\n",
       "\n",
       "    .dataframe thead tr:last-of-type th {\n",
       "        text-align: right;\n",
       "    }\n",
       "</style>\n",
       "<table border=\"1\" class=\"dataframe\">\n",
       "  <thead>\n",
       "    <tr>\n",
       "      <th></th>\n",
       "      <th colspan=\"3\" halign=\"left\">price</th>\n",
       "    </tr>\n",
       "    <tr>\n",
       "      <th></th>\n",
       "      <th>mean</th>\n",
       "      <th>std</th>\n",
       "      <th>count</th>\n",
       "    </tr>\n",
       "    <tr>\n",
       "      <th>room_type</th>\n",
       "      <th></th>\n",
       "      <th></th>\n",
       "      <th></th>\n",
       "    </tr>\n",
       "  </thead>\n",
       "  <tbody>\n",
       "    <tr>\n",
       "      <th>Entire home/apt</th>\n",
       "      <td>182.132282</td>\n",
       "      <td>315.459394</td>\n",
       "      <td>10523</td>\n",
       "    </tr>\n",
       "    <tr>\n",
       "      <th>Hotel room</th>\n",
       "      <td>180.027027</td>\n",
       "      <td>88.415838</td>\n",
       "      <td>37</td>\n",
       "    </tr>\n",
       "    <tr>\n",
       "      <th>Private room</th>\n",
       "      <td>124.862922</td>\n",
       "      <td>1956.371146</td>\n",
       "      <td>2991</td>\n",
       "    </tr>\n",
       "    <tr>\n",
       "      <th>Shared room</th>\n",
       "      <td>80.585714</td>\n",
       "      <td>155.046650</td>\n",
       "      <td>70</td>\n",
       "    </tr>\n",
       "  </tbody>\n",
       "</table>\n",
       "</div>"
      ],
      "text/plain": [
       "                      price                    \n",
       "                       mean          std  count\n",
       "room_type                                      \n",
       "Entire home/apt  182.132282   315.459394  10523\n",
       "Hotel room       180.027027    88.415838     37\n",
       "Private room     124.862922  1956.371146   2991\n",
       "Shared room       80.585714   155.046650     70"
      ]
     },
     "execution_count": 90,
     "metadata": {},
     "output_type": "execute_result"
    }
   ],
   "source": [
    "#the mean and standard deviation price for each room type\n",
    "df.groupby(['room_type']).agg({'price': ['mean', 'std', 'count']})\n",
    "#.plot(kind = 'bar')"
   ]
  },
  {
   "cell_type": "code",
   "execution_count": 95,
   "metadata": {},
   "outputs": [
    {
     "data": {
      "text/plain": [
       "(33,\n",
       " array(['Le Plateau-Mont-Royal', 'Le Sud-Ouest',\n",
       "        'Villeray-Saint-Michel-Parc-Extension', 'Ville-Marie',\n",
       "        'Rosemont-La Petite-Patrie', 'LaSalle',\n",
       "        'Mercier-Hochelaga-Maisonneuve',\n",
       "        'Côte-des-Neiges-Notre-Dame-de-Grâce', 'Montréal-Ouest', 'Verdun',\n",
       "        \"Baie-d'Urfé\", 'Lachine', 'Côte-Saint-Luc',\n",
       "        'Ahuntsic-Cartierville', 'Saint-Laurent', 'Outremont',\n",
       "        'Pierrefonds-Roxboro', 'Saint-Léonard', 'Anjou',\n",
       "        'Rivière-des-Prairies-Pointe-aux-Trembles', 'Pointe-Claire',\n",
       "        'Mont-Royal', 'Dollard-des-Ormeaux', 'Hampstead', 'Dorval',\n",
       "        'Westmount', 'Kirkland', \"L'Île-Bizard-Sainte-Geneviève\",\n",
       "        'Montréal-Nord', 'Beaconsfield', 'Sainte-Anne-de-Bellevue',\n",
       "        'Montréal-Est', 'Senneville'], dtype=object))"
      ]
     },
     "execution_count": 95,
     "metadata": {},
     "output_type": "execute_result"
    }
   ],
   "source": [
    "len(df.neighbourhood.unique()), df.neighbourhood.unique()\n",
    "# 33 neightbourhoods "
   ]
  },
  {
   "cell_type": "code",
   "execution_count": 106,
   "metadata": {},
   "outputs": [
    {
     "data": {
      "text/plain": [
       "Ville-Marie                                 4061\n",
       "Le Plateau-Mont-Royal                       3081\n",
       "Rosemont-La Petite-Patrie                   1102\n",
       "Le Sud-Ouest                                1025\n",
       "Côte-des-Neiges-Notre-Dame-de-Grâce         1009\n",
       "Mercier-Hochelaga-Maisonneuve                754\n",
       "Villeray-Saint-Michel-Parc-Extension         612\n",
       "Ahuntsic-Cartierville                        457\n",
       "Verdun                                       293\n",
       "Saint-Laurent                                184\n",
       "LaSalle                                      132\n",
       "Outremont                                    129\n",
       "Lachine                                      102\n",
       "Pierrefonds-Roxboro                           69\n",
       "Rivière-des-Prairies-Pointe-aux-Trembles      61\n",
       "Westmount                                     61\n",
       "Saint-Léonard                                 57\n",
       "Montréal-Nord                                 55\n",
       "Anjou                                         53\n",
       "Côte-Saint-Luc                                51\n",
       "Mont-Royal                                    46\n",
       "L'Île-Bizard-Sainte-Geneviève                 46\n",
       "Pointe-Claire                                 40\n",
       "Dollard-des-Ormeaux                           32\n",
       "Dorval                                        29\n",
       "Beaconsfield                                  21\n",
       "Sainte-Anne-de-Bellevue                       19\n",
       "Montréal-Ouest                                10\n",
       "Hampstead                                      9\n",
       "Kirkland                                       8\n",
       "Baie-d'Urfé                                    6\n",
       "Montréal-Est                                   6\n",
       "Senneville                                     1\n",
       "Name: neighbourhood, dtype: int64"
      ]
     },
     "execution_count": 106,
     "metadata": {},
     "output_type": "execute_result"
    }
   ],
   "source": [
    "df.neighbourhood.value_counts()\n",
    "#most hosts are in ville-Marie."
   ]
  },
  {
   "cell_type": "code",
   "execution_count": 110,
   "metadata": {},
   "outputs": [
    {
     "data": {
      "text/plain": [
       "count    13621.000000\n",
       "mean        15.623523\n",
       "std        108.486987\n",
       "min          1.000000\n",
       "25%          1.000000\n",
       "50%          2.000000\n",
       "75%         21.000000\n",
       "max      11684.000000\n",
       "Name: minimum_nights, dtype: float64"
      ]
     },
     "execution_count": 110,
     "metadata": {},
     "output_type": "execute_result"
    }
   ],
   "source": [
    "#describtive statistic on minimum_nights \n",
    "df.minimum_nights.describe()\n",
    "# the minimum of the minimum number of night is 1, while the maximum is 11684 nights !!\n",
    "# lets investigate this maximum number. "
   ]
  },
  {
   "cell_type": "code",
   "execution_count": 124,
   "metadata": {},
   "outputs": [
    {
     "data": {
      "text/plain": [
       "438"
      ]
     },
     "execution_count": 124,
     "metadata": {},
     "output_type": "execute_result"
    },
    {
     "data": {
      "image/png": "[encoded data removed]",
      "text/plain": [
       "<Figure size 640x480 with 1 Axes>"
      ]
     },
     "metadata": {},
     "output_type": "display_data"
    }
   ],
   "source": [
    "#The distribution of minimum nights \n",
    "#showing only up to two months, \n",
    "sns.histplot(x= 'minimum_nights', data = df, binrange=[0,60])\n",
    "#the number of observation not included in the histogram is 438\n",
    "df[df['minimum_nights'] > 60].count()['minimum_nights']"
   ]
  },
  {
   "cell_type": "code",
   "execution_count": 119,
   "metadata": {},
   "outputs": [
    {
     "data": {
      "text/html": [
       "<div>\n",
       "<style scoped>\n",
       "    .dataframe tbody tr th:only-of-type {\n",
       "        vertical-align: middle;\n",
       "    }\n",
       "\n",
       "    .dataframe tbody tr th {\n",
       "        vertical-align: top;\n",
       "    }\n",
       "\n",
       "    .dataframe thead th {\n",
       "        text-align: right;\n",
       "    }\n",
       "</style>\n",
       "<table border=\"1\" class=\"dataframe\">\n",
       "  <thead>\n",
       "    <tr style=\"text-align: right;\">\n",
       "      <th></th>\n",
       "      <th>id</th>\n",
       "      <th>name</th>\n",
       "      <th>host_id</th>\n",
       "      <th>host_name</th>\n",
       "      <th>neighbourhood</th>\n",
       "      <th>latitude</th>\n",
       "      <th>longitude</th>\n",
       "      <th>room_type</th>\n",
       "      <th>price</th>\n",
       "      <th>minimum_nights</th>\n",
       "      <th>number_of_reviews</th>\n",
       "      <th>last_review</th>\n",
       "      <th>reviews_per_month</th>\n",
       "      <th>calculated_host_listings_count</th>\n",
       "      <th>availability_365</th>\n",
       "      <th>number_of_reviews_ltm</th>\n",
       "      <th>license</th>\n",
       "    </tr>\n",
       "  </thead>\n",
       "  <tbody>\n",
       "    <tr>\n",
       "      <th>2765</th>\n",
       "      <td>19906947</td>\n",
       "      <td>Charming apartment beside river, near downtown!!</td>\n",
       "      <td>81742896</td>\n",
       "      <td>Sjsj</td>\n",
       "      <td>Le Sud-Ouest</td>\n",
       "      <td>45.47828</td>\n",
       "      <td>-73.5729</td>\n",
       "      <td>Private room</td>\n",
       "      <td>100</td>\n",
       "      <td>11684</td>\n",
       "      <td>2</td>\n",
       "      <td>2017-08-22</td>\n",
       "      <td>0.03</td>\n",
       "      <td>1</td>\n",
       "      <td>0</td>\n",
       "      <td>0</td>\n",
       "      <td>NaN</td>\n",
       "    </tr>\n",
       "  </tbody>\n",
       "</table>\n",
       "</div>"
      ],
      "text/plain": [
       "            id                                              name   host_id  \\\n",
       "2765  19906947  Charming apartment beside river, near downtown!!  81742896   \n",
       "\n",
       "     host_name neighbourhood  latitude  longitude     room_type  price  \\\n",
       "2765      Sjsj  Le Sud-Ouest  45.47828   -73.5729  Private room    100   \n",
       "\n",
       "      minimum_nights  number_of_reviews last_review  reviews_per_month  \\\n",
       "2765           11684                  2  2017-08-22               0.03   \n",
       "\n",
       "      calculated_host_listings_count  availability_365  number_of_reviews_ltm  \\\n",
       "2765                               1                 0                      0   \n",
       "\n",
       "     license  \n",
       "2765     NaN  "
      ]
     },
     "execution_count": 119,
     "metadata": {},
     "output_type": "execute_result"
    }
   ],
   "source": [
    "#what is the row number with minimum night of 11684 nights\n",
    "df[df['minimum_nights'] > 11600]\n",
    "#only had one listing, last review was on 22-08-2017"
   ]
  },
  {
   "cell_type": "code",
   "execution_count": 133,
   "metadata": {},
   "outputs": [
    {
     "data": {
      "text/html": [
       "<div>\n",
       "<style scoped>\n",
       "    .dataframe tbody tr th:only-of-type {\n",
       "        vertical-align: middle;\n",
       "    }\n",
       "\n",
       "    .dataframe tbody tr th {\n",
       "        vertical-align: top;\n",
       "    }\n",
       "\n",
       "    .dataframe thead th {\n",
       "        text-align: right;\n",
       "    }\n",
       "</style>\n",
       "<table border=\"1\" class=\"dataframe\">\n",
       "  <thead>\n",
       "    <tr style=\"text-align: right;\">\n",
       "      <th></th>\n",
       "      <th>id</th>\n",
       "      <th>name</th>\n",
       "      <th>host_id</th>\n",
       "      <th>host_name</th>\n",
       "      <th>neighbourhood</th>\n",
       "      <th>latitude</th>\n",
       "      <th>longitude</th>\n",
       "      <th>room_type</th>\n",
       "      <th>price</th>\n",
       "      <th>minimum_nights</th>\n",
       "      <th>number_of_reviews</th>\n",
       "      <th>last_review</th>\n",
       "      <th>reviews_per_month</th>\n",
       "      <th>calculated_host_listings_count</th>\n",
       "      <th>availability_365</th>\n",
       "      <th>number_of_reviews_ltm</th>\n",
       "      <th>license</th>\n",
       "    </tr>\n",
       "  </thead>\n",
       "  <tbody>\n",
       "    <tr>\n",
       "      <th>2765</th>\n",
       "      <td>19906947</td>\n",
       "      <td>Charming apartment beside river, near downtown!!</td>\n",
       "      <td>81742896</td>\n",
       "      <td>Sjsj</td>\n",
       "      <td>Le Sud-Ouest</td>\n",
       "      <td>45.47828</td>\n",
       "      <td>-73.5729</td>\n",
       "      <td>Private room</td>\n",
       "      <td>100</td>\n",
       "      <td>11684</td>\n",
       "      <td>2</td>\n",
       "      <td>2017-08-22</td>\n",
       "      <td>0.03</td>\n",
       "      <td>1</td>\n",
       "      <td>0</td>\n",
       "      <td>0</td>\n",
       "      <td>NaN</td>\n",
       "    </tr>\n",
       "  </tbody>\n",
       "</table>\n",
       "</div>"
      ],
      "text/plain": [
       "            id                                              name   host_id  \\\n",
       "2765  19906947  Charming apartment beside river, near downtown!!  81742896   \n",
       "\n",
       "     host_name neighbourhood  latitude  longitude     room_type  price  \\\n",
       "2765      Sjsj  Le Sud-Ouest  45.47828   -73.5729  Private room    100   \n",
       "\n",
       "      minimum_nights  number_of_reviews last_review  reviews_per_month  \\\n",
       "2765           11684                  2  2017-08-22               0.03   \n",
       "\n",
       "      calculated_host_listings_count  availability_365  number_of_reviews_ltm  \\\n",
       "2765                               1                 0                      0   \n",
       "\n",
       "     license  \n",
       "2765     NaN  "
      ]
     },
     "execution_count": 133,
     "metadata": {},
     "output_type": "execute_result"
    }
   ],
   "source": [
    "#lets see the host other listings\n",
    "df.iloc[2765]['id']\n",
    "df[df['host_id'] == df.iloc[2765]['host_id']]\n",
    "#only have this listing \n"
   ]
  },
  {
   "cell_type": "code",
   "execution_count": 138,
   "metadata": {},
   "outputs": [],
   "source": [
    "import geopandas as gpd\n",
    "import folium\n",
    "import shapely\n",
    "import plotly.express as px\n",
    "geo_df = gpd.GeoDataFrame(df, \n",
    "geometry= gpd.points_from_xy(df['latitude'], df['longitude']))"
   ]
  },
  {
   "cell_type": "code",
   "execution_count": 140,
   "metadata": {},
   "outputs": [
    {
     "ename": "ImportError",
     "evalue": "The 'read_file' function requires the 'pyogrio' or 'fiona' package, but neither is installed or imports correctly.\nImporting fiona resulted in: libtiledb.so.2.2: cannot open shared object file: No such file or directory\nImporting pyogrio resulted in: No module named 'pyogrio'",
     "output_type": "error",
     "traceback": [
      "\u001b[0;31m---------------------------------------------------------------------------\u001b[0m",
      "\u001b[0;31mImportError\u001b[0m                               Traceback (most recent call last)",
      "\u001b[0;32m/tmp/ipykernel_21535/3432786234.py\u001b[0m in \u001b[0;36m<module>\u001b[0;34m\u001b[0m\n\u001b[0;32m----> 1\u001b[0;31m \u001b[0mworld_data\u001b[0m \u001b[0;34m=\u001b[0m \u001b[0mgpd\u001b[0m\u001b[0;34m.\u001b[0m\u001b[0mread_file\u001b[0m\u001b[0;34m(\u001b[0m\u001b[0mgpd\u001b[0m\u001b[0;34m.\u001b[0m\u001b[0mdatasets\u001b[0m\u001b[0;34m.\u001b[0m\u001b[0mget_path\u001b[0m\u001b[0;34m(\u001b[0m\u001b[0;34m'naturalearth_lowres'\u001b[0m\u001b[0;34m)\u001b[0m\u001b[0;34m)\u001b[0m\u001b[0;34m\u001b[0m\u001b[0;34m\u001b[0m\u001b[0m\n\u001b[0m",
      "\u001b[0;32m~/anaconda3/lib/python3.9/site-packages/geopandas/io/file.py\u001b[0m in \u001b[0;36m_read_file\u001b[0;34m(filename, bbox, mask, rows, engine, **kwargs)\u001b[0m\n\u001b[1;32m    234\u001b[0m     \u001b[0mby\u001b[0m \u001b[0musing\u001b[0m \u001b[0mthe\u001b[0m \u001b[0mencoding\u001b[0m \u001b[0mkeyword\u001b[0m \u001b[0mparameter\u001b[0m\u001b[0;34m,\u001b[0m \u001b[0me\u001b[0m\u001b[0;34m.\u001b[0m\u001b[0mg\u001b[0m\u001b[0;34m.\u001b[0m\u001b[0;31m \u001b[0m\u001b[0;31m`\u001b[0m\u001b[0;31m`\u001b[0m\u001b[0mencoding\u001b[0m\u001b[0;34m=\u001b[0m\u001b[0;34m'utf-8'\u001b[0m\u001b[0;31m`\u001b[0m\u001b[0;31m`\u001b[0m\u001b[0;34m.\u001b[0m\u001b[0;34m\u001b[0m\u001b[0;34m\u001b[0m\u001b[0m\n\u001b[1;32m    235\u001b[0m     \"\"\"\n\u001b[0;32m--> 236\u001b[0;31m     \u001b[0mengine\u001b[0m \u001b[0;34m=\u001b[0m \u001b[0m_check_engine\u001b[0m\u001b[0;34m(\u001b[0m\u001b[0mengine\u001b[0m\u001b[0;34m,\u001b[0m \u001b[0;34m\"'read_file' function\"\u001b[0m\u001b[0;34m)\u001b[0m\u001b[0;34m\u001b[0m\u001b[0;34m\u001b[0m\u001b[0m\n\u001b[0m\u001b[1;32m    237\u001b[0m \u001b[0;34m\u001b[0m\u001b[0m\n\u001b[1;32m    238\u001b[0m     \u001b[0mfilename\u001b[0m \u001b[0;34m=\u001b[0m \u001b[0m_expand_user\u001b[0m\u001b[0;34m(\u001b[0m\u001b[0mfilename\u001b[0m\u001b[0;34m)\u001b[0m\u001b[0;34m\u001b[0m\u001b[0;34m\u001b[0m\u001b[0m\n",
      "\u001b[0;32m~/anaconda3/lib/python3.9/site-packages/geopandas/io/file.py\u001b[0m in \u001b[0;36m_check_engine\u001b[0;34m(engine, func)\u001b[0m\n\u001b[1;32m    105\u001b[0m         \u001b[0m_check_pyogrio\u001b[0m\u001b[0;34m(\u001b[0m\u001b[0mfunc\u001b[0m\u001b[0;34m)\u001b[0m\u001b[0;34m\u001b[0m\u001b[0;34m\u001b[0m\u001b[0m\n\u001b[1;32m    106\u001b[0m     \u001b[0;32melif\u001b[0m \u001b[0mengine\u001b[0m \u001b[0;32mis\u001b[0m \u001b[0;32mNone\u001b[0m\u001b[0;34m:\u001b[0m\u001b[0;34m\u001b[0m\u001b[0;34m\u001b[0m\u001b[0m\n\u001b[0;32m--> 107\u001b[0;31m         raise ImportError(\n\u001b[0m\u001b[1;32m    108\u001b[0m             \u001b[0;34mf\"The {func} requires the 'pyogrio' or 'fiona' package, \"\u001b[0m\u001b[0;34m\u001b[0m\u001b[0;34m\u001b[0m\u001b[0m\n\u001b[1;32m    109\u001b[0m             \u001b[0;34m\"but neither is installed or imports correctly.\"\u001b[0m\u001b[0;34m\u001b[0m\u001b[0;34m\u001b[0m\u001b[0m\n",
      "\u001b[0;31mImportError\u001b[0m: The 'read_file' function requires the 'pyogrio' or 'fiona' package, but neither is installed or imports correctly.\nImporting fiona resulted in: libtiledb.so.2.2: cannot open shared object file: No such file or directory\nImporting pyogrio resulted in: No module named 'pyogrio'"
     ]
    }
   ],
   "source": [
    "world_data = gpd.read_file(gpd.datasets.get_path('naturalearth_lowres'))"
   ]
  },
  {
   "cell_type": "code",
   "execution_count": null,
   "metadata": {},
   "outputs": [],
   "source": []
  }
 ],
 "metadata": {
  "kernelspec": {
   "display_name": "Python 3.9.13 ('base')",
   "language": "python",
   "name": "python3"
  },
  "language_info": {
   "codemirror_mode": {
    "name": "ipython",
    "version": 3
   },
   "file_extension": ".py",
   "mimetype": "text/x-python",
   "name": "python",
   "nbconvert_exporter": "python",
   "pygments_lexer": "ipython3",
   "version": "3.9.13"
  },
  "orig_nbformat": 4,
  "vscode": {
   "interpreter": {
    "hash": "9bd7658f87ed347c528db0f956a0bc310221d938d4137fc9db26a6683ba490f6"
   }
  }
 },
 "nbformat": 4,
 "nbformat_minor": 2
}
