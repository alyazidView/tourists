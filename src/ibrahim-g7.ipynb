{
 "cells": [
  {
   "cell_type": "code",
   "execution_count": 1,
   "metadata": {},
   "outputs": [
    {
     "ename": "ModuleNotFoundError",
     "evalue": "No module named 'pandas_profiling'",
     "output_type": "error",
     "traceback": [
      "\u001b[0;31m---------------------------------------------------------------------------\u001b[0m",
      "\u001b[0;31mModuleNotFoundError\u001b[0m                       Traceback (most recent call last)",
      "\u001b[1;32m/workspaces/tourists/src/ibrahim-g7.ipynb Cell 1\u001b[0m in \u001b[0;36m<cell line: 9>\u001b[0;34m()\u001b[0m\n\u001b[1;32m      <a href='vscode-notebook-cell://dev-container%2B2f55736572732f79617a69642f446f63756d656e74732f6d69736b2f746f757269737473/workspaces/tourists/src/ibrahim-g7.ipynb#W0sdnNjb2RlLXJlbW90ZQ%3D%3D?line=6'>7</a>\u001b[0m \u001b[39mimport\u001b[39;00m \u001b[39mplotly\u001b[39;00m\u001b[39m.\u001b[39;00m\u001b[39mexpress\u001b[39;00m \u001b[39mas\u001b[39;00m \u001b[39mpx\u001b[39;00m\n\u001b[1;32m      <a href='vscode-notebook-cell://dev-container%2B2f55736572732f79617a69642f446f63756d656e74732f6d69736b2f746f757269737473/workspaces/tourists/src/ibrahim-g7.ipynb#W0sdnNjb2RlLXJlbW90ZQ%3D%3D?line=7'>8</a>\u001b[0m \u001b[39mimport\u001b[39;00m \u001b[39mplotly\u001b[39;00m\u001b[39m.\u001b[39;00m\u001b[39mio\u001b[39;00m \u001b[39mas\u001b[39;00m \u001b[39mpio\u001b[39;00m\n\u001b[0;32m----> <a href='vscode-notebook-cell://dev-container%2B2f55736572732f79617a69642f446f63756d656e74732f6d69736b2f746f757269737473/workspaces/tourists/src/ibrahim-g7.ipynb#W0sdnNjb2RlLXJlbW90ZQ%3D%3D?line=8'>9</a>\u001b[0m \u001b[39mfrom\u001b[39;00m \u001b[39mpandas_profiling\u001b[39;00m \u001b[39mimport\u001b[39;00m ProfileReport\n\u001b[1;32m     <a href='vscode-notebook-cell://dev-container%2B2f55736572732f79617a69642f446f63756d656e74732f6d69736b2f746f757269737473/workspaces/tourists/src/ibrahim-g7.ipynb#W0sdnNjb2RlLXJlbW90ZQ%3D%3D?line=9'>10</a>\u001b[0m \u001b[39mfrom\u001b[39;00m \u001b[39mmatplotlib\u001b[39;00m \u001b[39mimport\u001b[39;00m colors\n\u001b[1;32m     <a href='vscode-notebook-cell://dev-container%2B2f55736572732f79617a69642f446f63756d656e74732f6d69736b2f746f757269737473/workspaces/tourists/src/ibrahim-g7.ipynb#W0sdnNjb2RlLXJlbW90ZQ%3D%3D?line=10'>11</a>\u001b[0m \u001b[39mimport\u001b[39;00m \u001b[39mfolium\u001b[39;00m\n",
      "\u001b[0;31mModuleNotFoundError\u001b[0m: No module named 'pandas_profiling'"
     ]
    }
   ],
   "source": [
    "# Libraries\n",
    "import pandas as pd\n",
    "import numpy as np\n",
    "import matplotlib.pyplot as plt\n",
    "import seaborn as sns\n",
    "import statsmodels as sm \n",
    "import plotly.express as px\n",
    "import plotly.io as pio\n",
    "from pandas_profiling import ProfileReport\n",
    "from matplotlib import colors\n",
    "import folium\n",
    "import folium.plugins\n",
    "import branca.colormap as cmp\n",
    "from math import radians, cos, sin, asin, sqrt\n",
    "sns.set_style('darkgrid')\n",
    "pio.templates.default = 'seaborn'"
   ]
  },
  {
   "cell_type": "code",
   "execution_count": null,
   "metadata": {},
   "outputs": [],
   "source": [
    "df = pd.read_csv('../data/listings.csv')"
   ]
  },
  {
   "cell_type": "code",
   "execution_count": null,
   "metadata": {},
   "outputs": [],
   "source": [
    "df.info()\n",
    "#13621 observation and 18 variables\n",
    "#note the neighbourhood_group has al it entries as null value "
   ]
  },
  {
   "cell_type": "code",
   "execution_count": null,
   "metadata": {},
   "outputs": [],
   "source": [
    "#dropping the neighbourhood_group \n",
    "df.drop('neighbourhood_group', axis =1, inplace=True)"
   ]
  },
  {
   "cell_type": "code",
   "execution_count": null,
   "metadata": {},
   "outputs": [],
   "source": [
    "#512 differnt licenses, and only 881 out 13621 observation have value, so we will drop it. \n",
    "len(df.license.unique()) ,df.license.unique()\n",
    "df.drop('license',axis =1, inplace=True)"
   ]
  },
  {
   "cell_type": "code",
   "execution_count": null,
   "metadata": {},
   "outputs": [],
   "source": [
    "df.dtypes\n",
    "#id, id_host are int variabe,most likely they are not used in graph or any mathematical operation\n",
    "#I will change them to string type.\n",
    "df['id'] = df['id'].astype(str)\n",
    "df['host_id'] = df['host_id'].astype(str)\n",
    "df.dtypes"
   ]
  },
  {
   "cell_type": "code",
   "execution_count": null,
   "metadata": {},
   "outputs": [],
   "source": [
    "df[df['price'] >= 4000].count()['id']"
   ]
  },
  {
   "cell_type": "code",
   "execution_count": null,
   "metadata": {},
   "outputs": [],
   "source": [
    "df.describe()\n",
    "#the maximum of minimum nights looks like an error, so we will remove it.\n",
    "#Also, we are only interested in listing with price less than 4000 $\n",
    "df = df[df['minimum_nights']< 11000]\n",
    "df = df[df['price'] < 4000]\n",
    "\n"
   ]
  },
  {
   "cell_type": "code",
   "execution_count": null,
   "metadata": {},
   "outputs": [],
   "source": [
    "#df.neighbourhood.unique()\n",
    "print(df['neighbourhood'].nunique())"
   ]
  },
  {
   "cell_type": "code",
   "execution_count": null,
   "metadata": {},
   "outputs": [],
   "source": [
    "#The variation in price is high, the distribution of prices is:\n",
    "#The distribution of price seems to be right skewed.\n",
    "\n",
    "fig = px.histogram(\n",
    "    df, \n",
    "    x='price', \n",
    "    template= 'ggplot2',\n",
    "    title=\"Price Histogram\",\n",
    "    labels={\n",
    "        'count': 'Count', #this doesnt work \n",
    "        'price': 'Price (CAD)'}\n",
    "    )\n",
    "\n",
    "fig.update_layout(yaxis_title='Count')\n",
    "fig.show()"
   ]
  },
  {
   "cell_type": "code",
   "execution_count": null,
   "metadata": {},
   "outputs": [],
   "source": [
    "fig = px.scatter( \n",
    "    data_frame=df[df['minimum_nights'] < 60],\n",
    "    y='minimum_nights',\n",
    "    x='number_of_reviews',\n",
    "    template='ggplot2',\n",
    "    opacity=0.2,\n",
    "    labels= {\n",
    "        'minimum_nights': 'Minimum Nights',\n",
    "        'number_of_review': 'Number of Reviews'\n",
    "    },\n",
    "    title=\"Number of review vs. Minimum nights\"\n",
    ")\n",
    "fig.show()"
   ]
  },
  {
   "cell_type": "code",
   "execution_count": null,
   "metadata": {},
   "outputs": [],
   "source": [
    "fig = px.scatter( \n",
    "    data_frame=df[df['minimum_nights'] < 60],\n",
    "    x='availability_365',\n",
    "    y='number_of_reviews',\n",
    "    template='ggplot2',\n",
    "    opacity=0.15\n",
    ")\n",
    "fig.show()"
   ]
  },
  {
   "cell_type": "code",
   "execution_count": null,
   "metadata": {},
   "outputs": [],
   "source": [
    "fig = px.histogram(\n",
    "    df[df['minimum_nights'] <=181],\n",
    "    x='minimum_nights',\n",
    "    labels={\n",
    "        'count': 'Count',\n",
    "        'minimum_nights': 'Minimum Nights '\n",
    "    },\n",
    "    title='Minimum Nights Histogram',\n",
    "    template='ggplot2'\n",
    "    )\n",
    "fig.update_layout(yaxis_title='Count')\n",
    "fig.show()"
   ]
  },
  {
   "cell_type": "markdown",
   "metadata": {},
   "source": [
    "# Introducing the parks datasets"
   ]
  },
  {
   "cell_type": "code",
   "execution_count": null,
   "metadata": {},
   "outputs": [],
   "source": [
    "df3 = pd.read_csv('../data/lieux_d_interet.csv') #load the data\n",
    "df3.dropna(how='any', inplace=True) #drop any missing value\n",
    "df3 = df3[df3['Type'].isin([\"Parc\", \"Jardin communautaire\"])] #pick only places of interest related parks\n",
    "df3 #only 4 parks"
   ]
  },
  {
   "cell_type": "markdown",
   "metadata": {},
   "source": [
    "## Now mergin the new dataset it with original data set.\n",
    "I will include two new columns to the original dataset; nerest park, and distance to the nearest park. "
   ]
  },
  {
   "cell_type": "code",
   "execution_count": null,
   "metadata": {},
   "outputs": [],
   "source": [
    "obs  = list(zip(df3['Latitude'], df3['Longitude']))\n",
    "radians(obs[1][0])\n",
    "len(obs)"
   ]
  },
  {
   "cell_type": "code",
   "execution_count": null,
   "metadata": {},
   "outputs": [],
   "source": [
    "obs  = list(zip(df3['Latitude'], df3['Longitude']))\n",
    "def cal_dist1(temp):\n",
    "    lat1 = temp['latitude'] \n",
    "    lon1 = temp['longitude']\n",
    "    lat1 = radians(lat1)\n",
    "    lon1 = radians(lon1)\n",
    "    results= []\n",
    "    for i in range(len(obs)):\n",
    "        lon2 = radians(obs[i][1])\n",
    "        lat2 = radians(obs[i][0])\n",
    "        # Haversine formula\n",
    "        dlon = lon2 - lon1\n",
    "        dlat = lat2 - lat1\n",
    "        a = sin(dlat / 2)**2 + cos(lat1) * cos(lat2) * sin(dlon / 2)**2\n",
    "        c = 2 * asin(sqrt(a))\n",
    "        # Radius of earth in kilometers. Use 3956 for miles\n",
    "        r = 6371\n",
    "        # calculate the result\n",
    "        results.append(c * r * 1.609344)\n",
    "    \n",
    "    min_val = min(results)\n",
    "    if min_val == results[0]:\n",
    "        return [min_val, \"Park 1\"]\n",
    "    elif min_val == results[1]:\n",
    "        return [min_val, \"Park 2\"]\n",
    "    elif min_val == results[2]:\n",
    "        return [min_val, \"Park 3\"]\n",
    "    elif min_val == results[3]:\n",
    "        return [min_val, \"Park 4\"]\n",
    "    else:\n",
    "        return [0,\"0\"]\n",
    "\n",
    "df['distance_to_parks'] = df.apply(cal_dist1, axis=1)\n",
    "df[['distance_to_nearest_park', 'nearest_park',]] = pd.DataFrame(df.distance_to_parks.tolist(), index=df.index)\n",
    "df.drop('distance_to_parks', axis=1,inplace=True)\n",
    "df.nearest_park.unique()"
   ]
  },
  {
   "cell_type": "code",
   "execution_count": null,
   "metadata": {},
   "outputs": [],
   "source": [
    "df.distance_to_nearest_park.describe()\n",
    "fig = px.histogram(\n",
    "    df,\n",
    "    x='distance_to_nearest_park',\n",
    "    labels={'distance_to_nearest_park': 'Distance to nearest park (km)'},\n",
    "    title='Distance to nearest park distribution.',\n",
    "    template='ggplot2'\n",
    ")\n",
    "fig.update_layout(yaxis_title='Count')\n",
    "fig.show()"
   ]
  },
  {
   "cell_type": "code",
   "execution_count": null,
   "metadata": {},
   "outputs": [],
   "source": [
    "fig = px.bar(\n",
    "    df,\n",
    "    x = df.nearest_park.unique(),\n",
    "    y = df.nearest_park.value_counts(),\n",
    "    title= \"Number of Listing Near the Parks\",\n",
    "    labels={\n",
    "        'y': 'Number of Listing',\n",
    "        'x': 'Park'\n",
    "    },\n",
    "    template='ggplot2'\n",
    ")\n",
    "fig.show()"
   ]
  },
  {
   "cell_type": "code",
   "execution_count": null,
   "metadata": {},
   "outputs": [],
   "source": [
    "#df_near = df.sort_values(by = 'distance_to_nearest_park', ascending=True)\n",
    "#df_near.info()\n",
    "df_neig_dis = df.groupby(['neighbourhood']).agg({'distance_to_nearest_park': ['mean','std','count']})\n",
    "#df_neig_dis.sort_values(by='mean')\n",
    "df_neig_dis_sorted = df_neig_dis.distance_to_nearest_park.sort_values('mean').head(6)\n",
    "df_neig_dis_sorted = pd.DataFrame(df_neig_dis_sorted)\n",
    "df_neig_dis_sorted.index"
   ]
  },
  {
   "cell_type": "code",
   "execution_count": null,
   "metadata": {},
   "outputs": [],
   "source": [
    "\n",
    "\n",
    "fig = px.bar(\n",
    "    df_neig_dis_sorted,\n",
    "    x = df_neig_dis_sorted.index,\n",
    "    y = 'mean',\n",
    "    color = 'count',\n",
    "    title= \"Mean distance of nearest park organized by neighbourhood.\",\n",
    "    labels={\n",
    "        'mean': 'Mean distance of nearest park (km)',\n",
    "        'neighbourhood': 'Neighourhoods'\n",
    "    }\n",
    ")\n",
    "fig.show()"
   ]
  },
  {
   "cell_type": "markdown",
   "metadata": {},
   "source": [
    "# The Map Code"
   ]
  },
  {
   "cell_type": "code",
   "execution_count": null,
   "metadata": {},
   "outputs": [],
   "source": [
    "#center the map around montreal\n",
    "map_osm = folium.Map(location=[df['latitude'].mean() , df['longitude'].mean()] , zoom_start=10)\n",
    "temp = df\n",
    "#adding a title\n",
    "title_html = '''\n",
    "             <h3 align=\"center\" style=\"font-size:20px\"><b>Concetration of listing and park locations.</b></h3>\n",
    "             '''\n",
    "map_osm.get_root().html.add_child(folium.Element(title_html))\n",
    "#make the listing location as list\n",
    "location = list(zip(df.latitude, df.longitude))\n",
    "folium.plugins.HeatMap(location, min_opacity = 0.09, max_opacity=0.5).add_to(map_osm)"
   ]
  },
  {
   "cell_type": "code",
   "execution_count": null,
   "metadata": {},
   "outputs": [],
   "source": [
    "#make the park's location as list\n",
    "obs = list(zip(df3['Latitude'], df3['Longitude']))\n",
    "park_list = ['Park 1', \"Park 2\", \"Park 3\", 'Park 4']\n",
    "\n",
    "for i , el in enumerate(obs):\n",
    "    #folium.CircleMarker(el[0:2], radius=15, color='#000000', fill_color='#000000').add_to(map_osm)\n",
    "    folium.Marker(el, popup=park_list[i], icon=folium.Icon(icon='tree', prefix= 'fa', color='green')).add_to(map_osm)\n",
    "#FastMarkerCluster(data=obs).add_to(map_osm)\n",
    "\n"
   ]
  },
  {
   "cell_type": "code",
   "execution_count": null,
   "metadata": {},
   "outputs": [],
   "source": [
    "map_osm"
   ]
  },
  {
   "cell_type": "code",
   "execution_count": null,
   "metadata": {},
   "outputs": [],
   "source": []
  }
 ],
 "metadata": {
  "kernelspec": {
   "display_name": "Python 3.9.12 ('base')",
   "language": "python",
   "name": "python3"
  },
  "language_info": {
   "codemirror_mode": {
    "name": "ipython",
    "version": 3
   },
   "file_extension": ".py",
   "mimetype": "text/x-python",
   "name": "python",
   "nbconvert_exporter": "python",
   "pygments_lexer": "ipython3",
   "version": "3.9.12"
  },
  "orig_nbformat": 4,
  "vscode": {
   "interpreter": {
    "hash": "d4d1e4263499bec80672ea0156c357c1ee493ec2b1c70f0acce89fc37c4a6abe"
   }
  }
 },
 "nbformat": 4,
 "nbformat_minor": 2
}
