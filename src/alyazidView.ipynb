{
 "cells": [
  {
   "cell_type": "code",
   "execution_count": null,
   "metadata": {},
   "outputs": [],
   "source": [
    "# Libraries\n",
    "import pandas as pd\n",
    "import numpy as np\n",
    "import matplotlib.pyplot as plt\n",
    "import seaborn as sns\n",
    "import statsmodels as sm\n",
    "import branca.colormap as cmp\n",
    "import folium\n",
    "import shapely\n",
    "import plotly.express as px"
   ]
  },
  {
   "cell_type": "code",
   "execution_count": null,
   "metadata": {},
   "outputs": [],
   "source": [
    "# Canada, Quebec City Dataframe (Main City)\n",
    "df=pd.read_csv('../data/canada/listings.csv')\n",
    "# Remove coloumn 'neighbourhood_group' and 'license'  because it's all NaN\n",
    "df.drop(['neighbourhood_group','license'], axis=1, inplace=True)\n",
    "# Show the shape\n",
    "df.shape"
   ]
  },
  {
   "cell_type": "code",
   "execution_count": null,
   "metadata": {},
   "outputs": [],
   "source": [
    "# Sample 10 Rows\n",
    "df.head(10)"
   ]
  },
  {
   "cell_type": "code",
   "execution_count": null,
   "metadata": {},
   "outputs": [],
   "source": [
    "# 1/3 Sorts neighborhood mean price \n",
    "neig = df[['price','neighbourhood']].groupby('neighbourhood').mean()\n",
    "neig = neig.sort_values('price')\n",
    "neig['rank'] = np.arange(len(neig)) + 1\n",
    "print(neig)"
   ]
  },
  {
   "cell_type": "code",
   "execution_count": null,
   "metadata": {},
   "outputs": [],
   "source": [
    "# 2/3 only run once or it will keep on creating indexes\n",
    "neig = neig.reset_index(level=0)\n"
   ]
  },
  {
   "cell_type": "code",
   "execution_count": null,
   "metadata": {},
   "outputs": [],
   "source": [
    "# 3/3 The Column\n",
    "print(neig)"
   ]
  },
  {
   "cell_type": "code",
   "execution_count": null,
   "metadata": {},
   "outputs": [],
   "source": [
    "# Bar plot neighborhood mean sorted (draft v2)\n",
    "plt.bar(*zip(*neig.sort_values(ascending=False).items())) + plt.xticks(rotation=90)\n",
    "plt.show\n"
   ]
  },
  {
   "cell_type": "code",
   "execution_count": null,
   "metadata": {},
   "outputs": [],
   "source": [
    "# Set bounds\n",
    "BBox = ((df.longitude.min(),   df.longitude.max(), df.latitude.min(), df.latitude.max()))\n",
    "# Import Image\n",
    "ruh_m = plt.imread('../data/canada/map.png')\n",
    "# Plot Data on Map (Draft v1)\n",
    "fig, ax = plt.subplots(figsize = (8,7))\n",
    "ax.scatter(df.longitude, df.latitude, zorder=1, alpha= 0.2, c='b', s=10)\n",
    "ax.set_title('Plotting Spatial Data on Quebec Map')\n",
    "ax.set_xlim(BBox[0],BBox[1])\n",
    "ax.set_ylim(BBox[2],BBox[3])\n",
    "ax.imshow(ruh_m, zorder=0, extent = BBox, aspect= 'equal')\n"
   ]
  },
  {
   "cell_type": "code",
   "execution_count": null,
   "metadata": {},
   "outputs": [],
   "source": [
    "sns.scatterplot(x='longitude',y= 'latitude', hue='neighbourhood',data=df)\n",
    "ax.set_title('Plotting Spatial Data on Quebec Map')\n",
    "ax.set_xlim(BBox[0],BBox[1])\n",
    "ax.set_ylim(BBox[2],BBox[3])\n",
    "ax.imshow(ruh_m, zorder=0, extent = BBox, aspect= 'equal')"
   ]
  },
  {
   "cell_type": "code",
   "execution_count": null,
   "metadata": {},
   "outputs": [],
   "source": [
    "linear = cmp.LinearColormap(['Blue', 'Red'], vmin = df.price.min(), vmax=df.price.max())"
   ]
  },
  {
   "cell_type": "code",
   "execution_count": null,
   "metadata": {},
   "outputs": [],
   "source": [
    "# Bar plot of room types' mean price\n",
    "sns.barplot(x='room_type', y='price',data=df, order=df.sort_values('room_type').price)"
   ]
  },
  {
   "cell_type": "code",
   "execution_count": null,
   "metadata": {},
   "outputs": [],
   "source": [
    "sns.barplot(x='room_type', y='price', data=df, order=df.sort_values('price').room_type)"
   ]
  },
  {
   "cell_type": "code",
   "execution_count": null,
   "metadata": {},
   "outputs": [],
   "source": [
    "# Bar plot of room types' mean price\n",
    "sns.barplot(data=df, x='room_type', y='price', order=df.sort_values('price').room_type)"
   ]
  },
  {
   "cell_type": "code",
   "execution_count": null,
   "metadata": {},
   "outputs": [],
   "source": [
    "print(neig[0])"
   ]
  },
  {
   "cell_type": "code",
   "execution_count": null,
   "metadata": {},
   "outputs": [],
   "source": [
    "# Ireland Dataframe\n",
    "dfIr=pd.read_csv('../data/ireland/listings.csv')"
   ]
  },
  {
   "cell_type": "code",
   "execution_count": null,
   "metadata": {},
   "outputs": [],
   "source": [
    "# Scotland Dataframe\n",
    "dfSc=pd.read_csv('../data/scotland/listings.csv')"
   ]
  },
  {
   "cell_type": "code",
   "execution_count": null,
   "metadata": {},
   "outputs": [],
   "source": [
    "# Spain Dataframe\n",
    "dfSp=pd.read_csv('../data/spain/listings.csv')\n",
    "# Remove coloumn 'neighbourhood_group' because it's all NaN\n",
    "dfSp.drop(['neighbourhood_group'], axis=1, inplace=True)\n",
    "# Show the shape\n",
    "dfSp.shape"
   ]
  },
  {
   "cell_type": "code",
   "execution_count": null,
   "metadata": {},
   "outputs": [],
   "source": [
    "# Switzerland Dataframe\n",
    "dfSw=pd.read_csv('../data/switzerland/listings.csv')\n",
    "# Remove coloumn 'neighbourhood_group' because it's all NaN \n",
    "dfSw.drop(['neighbourhood_group'], axis=1, inplace=True)\n",
    "# Show the shape\n",
    "dfSw.shape"
   ]
  },
  {
   "cell_type": "code",
   "execution_count": null,
   "metadata": {},
   "outputs": [],
   "source": [
    "# Thailand Dataframe\n",
    "dfTh=pd.read_csv('../data/thailand/listings.csv')\n",
    "# Remove coloumn 'neighbourhood_group' because it's all NaN \n",
    "dfTh.drop(['neighbourhood_group'], axis=1, inplace=True)\n",
    "# Show the shape\n",
    "dfTh.shape"
   ]
  },
  {
   "cell_type": "code",
   "execution_count": null,
   "metadata": {},
   "outputs": [],
   "source": [
    "# Turkey Dataframe\n",
    "dfTu=pd.read_csv('../data/turkey/listings.csv')"
   ]
  }
 ],
 "metadata": {
  "kernelspec": {
   "display_name": "Python 3.9.12 ('base')",
   "language": "python",
   "name": "python3"
  },
  "language_info": {
   "codemirror_mode": {
    "name": "ipython",
    "version": 3
   },
   "file_extension": ".py",
   "mimetype": "text/x-python",
   "name": "python",
   "nbconvert_exporter": "python",
   "pygments_lexer": "ipython3",
   "version": "3.9.12"
  },
  "orig_nbformat": 4,
  "vscode": {
   "interpreter": {
    "hash": "d4d1e4263499bec80672ea0156c357c1ee493ec2b1c70f0acce89fc37c4a6abe"
   }
  }
 },
 "nbformat": 4,
 "nbformat_minor": 2
}
