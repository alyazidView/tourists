{
 "cells": [
  {
   "cell_type": "code",
   "execution_count": null,
   "metadata": {},
   "outputs": [],
   "source": [
    "# Libraries\n",
    "import pandas as pd\n",
    "import numpy as np\n",
    "import matplotlib.pyplot as plt\n",
    "import seaborn as sns\n",
    "import statsmodels as sm"
   ]
  },
  {
   "cell_type": "code",
   "execution_count": null,
   "metadata": {},
   "outputs": [],
   "source": [
    "# Canada, Quebec City Dataframe (Main City)\n",
    "df=pd.read_csv('../data/canada/listings.csv')\n",
    "# Remove coloumn 'neighbourhood_group' and 'license'  because it's all NaN\n",
    "df.drop(['neighbourhood_group','license'], axis=1, inplace=True)\n",
    "# Show the shape\n",
    "df.shape"
   ]
  },
  {
   "cell_type": "code",
   "execution_count": null,
   "metadata": {},
   "outputs": [],
   "source": [
    "# Sample 10 Rows\n",
    "df.sample(10)"
   ]
  },
  {
   "cell_type": "code",
   "execution_count": null,
   "metadata": {},
   "outputs": [],
   "source": [
    "# Make a correlation heatmap\n",
    "df.corr().style.background_gradient(cmap='coolwarm')"
   ]
  },
  {
   "cell_type": "code",
   "execution_count": 34,
   "metadata": {},
   "outputs": [
    {
     "data": {
      "text/plain": [
       "(7566, 16)"
      ]
     },
     "execution_count": 34,
     "metadata": {},
     "output_type": "execute_result"
    }
   ],
   "source": [
    "# Ireland Dataframe\n",
    "dfIr=pd.read_csv('../data/ireland/listings.csv')\n",
    "# Remove coloumn 'neighbourhood_group' because it's all NaN\n",
    "dfIr.drop(['neighbourhood_group'], axis=1, inplace=True)\n",
    "# Show the shape\n",
    "dfIr.shape"
   ]
  },
  {
   "cell_type": "code",
   "execution_count": 35,
   "metadata": {},
   "outputs": [
    {
     "data": {
      "text/html": [
       "<div>\n",
       "<style scoped>\n",
       "    .dataframe tbody tr th:only-of-type {\n",
       "        vertical-align: middle;\n",
       "    }\n",
       "\n",
       "    .dataframe tbody tr th {\n",
       "        vertical-align: top;\n",
       "    }\n",
       "\n",
       "    .dataframe thead th {\n",
       "        text-align: right;\n",
       "    }\n",
       "</style>\n",
       "<table border=\"1\" class=\"dataframe\">\n",
       "  <thead>\n",
       "    <tr style=\"text-align: right;\">\n",
       "      <th></th>\n",
       "      <th>id</th>\n",
       "      <th>name</th>\n",
       "      <th>host_id</th>\n",
       "      <th>host_name</th>\n",
       "      <th>neighbourhood</th>\n",
       "      <th>latitude</th>\n",
       "      <th>longitude</th>\n",
       "      <th>room_type</th>\n",
       "      <th>price</th>\n",
       "      <th>minimum_nights</th>\n",
       "      <th>number_of_reviews</th>\n",
       "      <th>last_review</th>\n",
       "      <th>reviews_per_month</th>\n",
       "      <th>calculated_host_listings_count</th>\n",
       "      <th>availability_365</th>\n",
       "      <th>number_of_reviews_ltm</th>\n",
       "    </tr>\n",
       "  </thead>\n",
       "  <tbody>\n",
       "    <tr>\n",
       "      <th>5322</th>\n",
       "      <td>46270057</td>\n",
       "      <td>Locke Studio- Twin at Zanzibar Locke</td>\n",
       "      <td>371005518</td>\n",
       "      <td>Zanzibar Locke</td>\n",
       "      <td>Dublin City</td>\n",
       "      <td>53.347350</td>\n",
       "      <td>-6.265340</td>\n",
       "      <td>Entire home/apt</td>\n",
       "      <td>391</td>\n",
       "      <td>1</td>\n",
       "      <td>149</td>\n",
       "      <td>2022-08-28</td>\n",
       "      <td>7.00</td>\n",
       "      <td>7</td>\n",
       "      <td>357</td>\n",
       "      <td>140</td>\n",
       "    </tr>\n",
       "    <tr>\n",
       "      <th>435</th>\n",
       "      <td>6348110</td>\n",
       "      <td>Large double room in Castleknock</td>\n",
       "      <td>33067422</td>\n",
       "      <td>Ciara</td>\n",
       "      <td>Fingal</td>\n",
       "      <td>53.385040</td>\n",
       "      <td>-6.383420</td>\n",
       "      <td>Private room</td>\n",
       "      <td>40</td>\n",
       "      <td>3</td>\n",
       "      <td>24</td>\n",
       "      <td>2021-07-17</td>\n",
       "      <td>0.27</td>\n",
       "      <td>2</td>\n",
       "      <td>0</td>\n",
       "      <td>0</td>\n",
       "    </tr>\n",
       "    <tr>\n",
       "      <th>6333</th>\n",
       "      <td>612692390582103756</td>\n",
       "      <td>1 bedroom apartment to rent in dublin city center</td>\n",
       "      <td>148823725</td>\n",
       "      <td>Carla Brenda</td>\n",
       "      <td>Dublin City</td>\n",
       "      <td>53.329200</td>\n",
       "      <td>-6.277850</td>\n",
       "      <td>Entire home/apt</td>\n",
       "      <td>224</td>\n",
       "      <td>1</td>\n",
       "      <td>6</td>\n",
       "      <td>2022-07-03</td>\n",
       "      <td>1.49</td>\n",
       "      <td>1</td>\n",
       "      <td>5</td>\n",
       "      <td>6</td>\n",
       "    </tr>\n",
       "    <tr>\n",
       "      <th>5599</th>\n",
       "      <td>50963266</td>\n",
       "      <td>Lovely modern 2 - bedroom apartment, in Dublin 1</td>\n",
       "      <td>376272590</td>\n",
       "      <td>Sovay</td>\n",
       "      <td>Dublin City</td>\n",
       "      <td>53.349903</td>\n",
       "      <td>-6.267653</td>\n",
       "      <td>Entire home/apt</td>\n",
       "      <td>130</td>\n",
       "      <td>15</td>\n",
       "      <td>7</td>\n",
       "      <td>2022-07-25</td>\n",
       "      <td>0.56</td>\n",
       "      <td>1</td>\n",
       "      <td>198</td>\n",
       "      <td>6</td>\n",
       "    </tr>\n",
       "    <tr>\n",
       "      <th>1818</th>\n",
       "      <td>16971923</td>\n",
       "      <td>Bright Comfortable King</td>\n",
       "      <td>26721551</td>\n",
       "      <td>Ann</td>\n",
       "      <td>Dublin City</td>\n",
       "      <td>53.311180</td>\n",
       "      <td>-6.286090</td>\n",
       "      <td>Private room</td>\n",
       "      <td>80</td>\n",
       "      <td>1</td>\n",
       "      <td>58</td>\n",
       "      <td>2022-08-27</td>\n",
       "      <td>0.87</td>\n",
       "      <td>2</td>\n",
       "      <td>272</td>\n",
       "      <td>10</td>\n",
       "    </tr>\n",
       "    <tr>\n",
       "      <th>6200</th>\n",
       "      <td>596835136364178143</td>\n",
       "      <td>Newly refurbished one bed self contained Apt</td>\n",
       "      <td>343981995</td>\n",
       "      <td>Helen</td>\n",
       "      <td>Dn Laoghaire-Rathdown</td>\n",
       "      <td>53.286230</td>\n",
       "      <td>-6.179500</td>\n",
       "      <td>Private room</td>\n",
       "      <td>118</td>\n",
       "      <td>2</td>\n",
       "      <td>12</td>\n",
       "      <td>2022-07-26</td>\n",
       "      <td>2.31</td>\n",
       "      <td>1</td>\n",
       "      <td>268</td>\n",
       "      <td>12</td>\n",
       "    </tr>\n",
       "    <tr>\n",
       "      <th>1465</th>\n",
       "      <td>14084572</td>\n",
       "      <td>Castleknock Apartment</td>\n",
       "      <td>84684668</td>\n",
       "      <td>Kieran</td>\n",
       "      <td>Fingal</td>\n",
       "      <td>53.373950</td>\n",
       "      <td>-6.404020</td>\n",
       "      <td>Entire home/apt</td>\n",
       "      <td>90</td>\n",
       "      <td>3</td>\n",
       "      <td>0</td>\n",
       "      <td>NaN</td>\n",
       "      <td>NaN</td>\n",
       "      <td>1</td>\n",
       "      <td>0</td>\n",
       "      <td>0</td>\n",
       "    </tr>\n",
       "    <tr>\n",
       "      <th>1849</th>\n",
       "      <td>17541932</td>\n",
       "      <td>Lovely flat in Dublin .</td>\n",
       "      <td>113256908</td>\n",
       "      <td>Barbra</td>\n",
       "      <td>Dublin City</td>\n",
       "      <td>53.365320</td>\n",
       "      <td>-6.255170</td>\n",
       "      <td>Entire home/apt</td>\n",
       "      <td>127</td>\n",
       "      <td>2</td>\n",
       "      <td>7</td>\n",
       "      <td>2018-10-08</td>\n",
       "      <td>0.10</td>\n",
       "      <td>1</td>\n",
       "      <td>0</td>\n",
       "      <td>0</td>\n",
       "    </tr>\n",
       "    <tr>\n",
       "      <th>2558</th>\n",
       "      <td>21089678</td>\n",
       "      <td>Superbly located! Bright and Airy Mews.</td>\n",
       "      <td>126495480</td>\n",
       "      <td>Daniel</td>\n",
       "      <td>Dublin City</td>\n",
       "      <td>53.335190</td>\n",
       "      <td>-6.245150</td>\n",
       "      <td>Entire home/apt</td>\n",
       "      <td>324</td>\n",
       "      <td>14</td>\n",
       "      <td>122</td>\n",
       "      <td>2022-08-21</td>\n",
       "      <td>2.02</td>\n",
       "      <td>6</td>\n",
       "      <td>334</td>\n",
       "      <td>6</td>\n",
       "    </tr>\n",
       "    <tr>\n",
       "      <th>641</th>\n",
       "      <td>7626133</td>\n",
       "      <td>Good Location-Spacious Double Room</td>\n",
       "      <td>40004472</td>\n",
       "      <td>Aoife</td>\n",
       "      <td>Dublin City</td>\n",
       "      <td>53.362550</td>\n",
       "      <td>-6.284130</td>\n",
       "      <td>Private room</td>\n",
       "      <td>61</td>\n",
       "      <td>1</td>\n",
       "      <td>9</td>\n",
       "      <td>2016-04-18</td>\n",
       "      <td>0.10</td>\n",
       "      <td>1</td>\n",
       "      <td>0</td>\n",
       "      <td>0</td>\n",
       "    </tr>\n",
       "  </tbody>\n",
       "</table>\n",
       "</div>"
      ],
      "text/plain": [
       "                      id                                               name  \\\n",
       "5322            46270057               Locke Studio- Twin at Zanzibar Locke   \n",
       "435              6348110                   Large double room in Castleknock   \n",
       "6333  612692390582103756  1 bedroom apartment to rent in dublin city center   \n",
       "5599            50963266   Lovely modern 2 - bedroom apartment, in Dublin 1   \n",
       "1818            16971923                            Bright Comfortable King   \n",
       "6200  596835136364178143       Newly refurbished one bed self contained Apt   \n",
       "1465            14084572                              Castleknock Apartment   \n",
       "1849            17541932                            Lovely flat in Dublin .   \n",
       "2558            21089678            Superbly located! Bright and Airy Mews.   \n",
       "641              7626133                 Good Location-Spacious Double Room   \n",
       "\n",
       "        host_id       host_name          neighbourhood   latitude  longitude  \\\n",
       "5322  371005518  Zanzibar Locke            Dublin City  53.347350  -6.265340   \n",
       "435    33067422           Ciara                 Fingal  53.385040  -6.383420   \n",
       "6333  148823725    Carla Brenda            Dublin City  53.329200  -6.277850   \n",
       "5599  376272590           Sovay            Dublin City  53.349903  -6.267653   \n",
       "1818   26721551             Ann            Dublin City  53.311180  -6.286090   \n",
       "6200  343981995           Helen  Dn Laoghaire-Rathdown  53.286230  -6.179500   \n",
       "1465   84684668          Kieran                 Fingal  53.373950  -6.404020   \n",
       "1849  113256908          Barbra            Dublin City  53.365320  -6.255170   \n",
       "2558  126495480          Daniel            Dublin City  53.335190  -6.245150   \n",
       "641    40004472           Aoife            Dublin City  53.362550  -6.284130   \n",
       "\n",
       "            room_type  price  minimum_nights  number_of_reviews last_review  \\\n",
       "5322  Entire home/apt    391               1                149  2022-08-28   \n",
       "435      Private room     40               3                 24  2021-07-17   \n",
       "6333  Entire home/apt    224               1                  6  2022-07-03   \n",
       "5599  Entire home/apt    130              15                  7  2022-07-25   \n",
       "1818     Private room     80               1                 58  2022-08-27   \n",
       "6200     Private room    118               2                 12  2022-07-26   \n",
       "1465  Entire home/apt     90               3                  0         NaN   \n",
       "1849  Entire home/apt    127               2                  7  2018-10-08   \n",
       "2558  Entire home/apt    324              14                122  2022-08-21   \n",
       "641      Private room     61               1                  9  2016-04-18   \n",
       "\n",
       "      reviews_per_month  calculated_host_listings_count  availability_365  \\\n",
       "5322               7.00                               7               357   \n",
       "435                0.27                               2                 0   \n",
       "6333               1.49                               1                 5   \n",
       "5599               0.56                               1               198   \n",
       "1818               0.87                               2               272   \n",
       "6200               2.31                               1               268   \n",
       "1465                NaN                               1                 0   \n",
       "1849               0.10                               1                 0   \n",
       "2558               2.02                               6               334   \n",
       "641                0.10                               1                 0   \n",
       "\n",
       "      number_of_reviews_ltm  \n",
       "5322                    140  \n",
       "435                       0  \n",
       "6333                      6  \n",
       "5599                      6  \n",
       "1818                     10  \n",
       "6200                     12  \n",
       "1465                      0  \n",
       "1849                      0  \n",
       "2558                      6  \n",
       "641                       0  "
      ]
     },
     "execution_count": 35,
     "metadata": {},
     "output_type": "execute_result"
    }
   ],
   "source": [
    "# Sample 10 Rows\n",
    "dfIr.sample(10)"
   ]
  },
  {
   "cell_type": "code",
   "execution_count": null,
   "metadata": {},
   "outputs": [],
   "source": [
    "# Make a correlation heatmap\n",
    "dfIr.corr().style.background_gradient(cmap='coolwarm')"
   ]
  },
  {
   "cell_type": "code",
   "execution_count": null,
   "metadata": {},
   "outputs": [],
   "source": [
    "# Scotland Dataframe\n",
    "dfSc=pd.read_csv('../data/scotland/listings.csv')\n",
    "# Remove coloumn 'neighbourhood_group' because it's all NaN\n",
    "dfSc.drop(['neighbourhood_group'], axis=1, inplace=True)\n",
    "# Show the shape\n",
    "dfSc.shape"
   ]
  },
  {
   "cell_type": "code",
   "execution_count": null,
   "metadata": {},
   "outputs": [],
   "source": [
    "# Sample 10 Rows\n",
    "dfSc.sample(10)"
   ]
  },
  {
   "cell_type": "code",
   "execution_count": null,
   "metadata": {},
   "outputs": [],
   "source": [
    "# Make a correlation heatmap\n",
    "dfSc.corr().style.background_gradient(cmap='coolwarm')"
   ]
  },
  {
   "cell_type": "code",
   "execution_count": null,
   "metadata": {},
   "outputs": [],
   "source": [
    "# Spain Dataframe\n",
    "dfSp=pd.read_csv('../data/spain/listings.csv')\n",
    "# Remove coloumn 'neighbourhood_group' because it's all NaN\n",
    "dfSp.drop(['neighbourhood_group'], axis=1, inplace=True)\n",
    "# Show the shape\n",
    "dfSp.shape"
   ]
  },
  {
   "cell_type": "code",
   "execution_count": null,
   "metadata": {},
   "outputs": [],
   "source": [
    "# Sample 10 Rows\n",
    "dfSp.sample(10)"
   ]
  },
  {
   "cell_type": "code",
   "execution_count": null,
   "metadata": {},
   "outputs": [],
   "source": [
    "# Make a correlation heatmap\n",
    "dfSp.corr().style.background_gradient(cmap='coolwarm')"
   ]
  },
  {
   "cell_type": "code",
   "execution_count": null,
   "metadata": {},
   "outputs": [],
   "source": [
    "# Switzerland Dataframe\n",
    "dfSw=pd.read_csv('../data/switzerland/listings.csv')\n",
    "# Remove coloumn 'neighbourhood_group' because it's all NaN \n",
    "dfSw.drop(['neighbourhood_group'], axis=1, inplace=True)\n",
    "# Show the shape\n",
    "dfSw.shape"
   ]
  },
  {
   "cell_type": "code",
   "execution_count": null,
   "metadata": {},
   "outputs": [],
   "source": [
    "# Sample 10 Rows\n",
    "dfSw.sample(10)"
   ]
  },
  {
   "cell_type": "code",
   "execution_count": null,
   "metadata": {},
   "outputs": [],
   "source": [
    "# Thailand Dataframe\n",
    "dfTh=pd.read_csv('../data/thailand/listings.csv')\n",
    "# Remove coloumn 'neighbourhood_group' because it's all NaN \n",
    "dfTh.drop(['neighbourhood_group'], axis=1, inplace=True)\n",
    "# Show the shape\n",
    "dfTh.shape"
   ]
  },
  {
   "cell_type": "code",
   "execution_count": null,
   "metadata": {},
   "outputs": [],
   "source": [
    "# Sample 10 Rows\n",
    "dfTh.sample(10)"
   ]
  },
  {
   "cell_type": "code",
   "execution_count": null,
   "metadata": {},
   "outputs": [],
   "source": [
    "# Make a correlation heatmap\n",
    "dfTh.corr().style.background_gradient(cmap='coolwarm')"
   ]
  },
  {
   "cell_type": "code",
   "execution_count": null,
   "metadata": {},
   "outputs": [],
   "source": [
    "# Turkey Dataframe\n",
    "dfTu=pd.read_csv('../data/turkey/listings.csv')\n",
    "# Remove coloumn 'neighbourhood_group' because it's all NaN \n",
    "dfTu.drop(['neighbourhood_group'], axis=1, inplace=True)\n",
    "# Show the shape\n",
    "dfTu.shape"
   ]
  },
  {
   "cell_type": "code",
   "execution_count": null,
   "metadata": {},
   "outputs": [],
   "source": [
    "# Sample 10 Rows\n",
    "dfTu.sample(10)"
   ]
  },
  {
   "cell_type": "code",
   "execution_count": null,
   "metadata": {},
   "outputs": [],
   "source": [
    "# Make a correlation heatmap\n",
    "dfTu.corr().style.background_gradient(cmap='coolwarm')"
   ]
  }
 ],
 "metadata": {
  "kernelspec": {
   "display_name": "Python 3.9.12 ('base')",
   "language": "python",
   "name": "python3"
  },
  "language_info": {
   "codemirror_mode": {
    "name": "ipython",
    "version": 3
   },
   "file_extension": ".py",
   "mimetype": "text/x-python",
   "name": "python",
   "nbconvert_exporter": "python",
   "pygments_lexer": "ipython3",
   "version": "3.9.12"
  },
  "orig_nbformat": 4,
  "vscode": {
   "interpreter": {
    "hash": "d4d1e4263499bec80672ea0156c357c1ee493ec2b1c70f0acce89fc37c4a6abe"
   }
  }
 },
 "nbformat": 4,
 "nbformat_minor": 2
}
