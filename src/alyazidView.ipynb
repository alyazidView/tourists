{
 "cells": [
  {
   "cell_type": "code",
   "execution_count": null,
   "metadata": {},
   "outputs": [],
   "source": [
    "# Libraries\n",
    "import pandas as pd\n",
    "import numpy as np\n",
    "import matplotlib.pyplot as plt\n",
    "import seaborn as sns\n",
    "import statsmodels as sm\n",
    "import branca.colormap as cmp\n",
    "import folium\n",
    "import shapely\n",
    "import plotly.express as px"
   ]
  },
  {
   "cell_type": "code",
   "execution_count": null,
   "metadata": {},
   "outputs": [],
   "source": [
    "# Canada, Quebec City Dataframe (Main City)\n",
    "df=pd.read_csv('../data/canada/listings.csv')\n",
    "# Remove coloumn 'neighbourhood_group' and 'license'  because it's all NaN\n",
    "df.drop(['neighbourhood_group','license'], axis=1, inplace=True)\n",
    "# Show the shape\n",
    "df.shape"
   ]
  },
  {
   "cell_type": "code",
   "execution_count": null,
   "metadata": {},
   "outputs": [],
   "source": [
    "# Sample 10 Rows\n",
    "df.head(10)"
   ]
  },
  {
   "cell_type": "code",
   "execution_count": null,
   "metadata": {},
   "outputs": [],
   "source": [
    "# 1/3 Sorts neighborhood mean price \n",
    "neig = df[['price','neighbourhood']].groupby('neighbourhood').mean()\n",
    "neig = neig.sort_values('price')\n",
    "neig['rank'] = np.arange(len(neig)) + 1\n",
    "print(neig)"
   ]
  },
  {
   "cell_type": "code",
   "execution_count": null,
   "metadata": {},
   "outputs": [],
   "source": [
    "# 2/3 only run once or it will keep on creating indexes\n",
    "neig = neig.reset_index(level=0)\n"
   ]
  },
  {
   "cell_type": "code",
   "execution_count": 25,
   "metadata": {},
   "outputs": [
    {
     "name": "stdout",
     "output_type": "stream",
     "text": [
      "                               neighbourhood       price  rank\n",
      "0                               Montréal-Est   73.000000     1\n",
      "1                             Montréal-Ouest   87.100000     2\n",
      "2                                      Anjou   87.415094     3\n",
      "3       Villeray-Saint-Michel-Parc-Extension   97.604575     4\n",
      "4                      Ahuntsic-Cartierville  110.733042     5\n",
      "5                                     Verdun  113.399317     6\n",
      "6                                    LaSalle  115.560606     7\n",
      "7                    Sainte-Anne-de-Bellevue  117.105263     8\n",
      "8                               Beaconsfield  118.476190     9\n",
      "9                                 Mont-Royal  125.173913    10\n",
      "10                             Montréal-Nord  128.672727    11\n",
      "11       Côte-des-Neiges-Notre-Dame-de-Grâce  128.739346    12\n",
      "12                             Pointe-Claire  129.075000    13\n",
      "13                 Rosemont-La Petite-Patrie  132.083485    14\n",
      "14                             Saint-Laurent  135.157609    15\n",
      "15                             Saint-Léonard  137.228070    16\n",
      "16             Mercier-Hochelaga-Maisonneuve  140.640584    17\n",
      "17  Rivière-des-Prairies-Pointe-aux-Trembles  145.934426    18\n",
      "18                                Senneville  151.000000    19\n",
      "19                       Dollard-des-Ormeaux  163.593750    20\n",
      "20                            Côte-Saint-Luc  170.647059    21\n",
      "21                                 Outremont  171.891473    22\n",
      "22                                   Lachine  174.509804    23\n",
      "23                                    Dorval  185.241379    24\n",
      "24                                 Westmount  190.081967    25\n",
      "25                               Ville-Marie  190.227530    26\n",
      "26                              Le Sud-Ouest  192.594146    27\n",
      "27                     Le Plateau-Mont-Royal  200.135021    28\n",
      "28                                  Kirkland  205.125000    29\n",
      "29                       Pierrefonds-Roxboro  211.231884    30\n",
      "30                                 Hampstead  253.111111    31\n",
      "31                               Baie-d'Urfé  253.166667    32\n",
      "32             L'Île-Bizard-Sainte-Geneviève  308.717391    33\n"
     ]
    }
   ],
   "source": [
    "# 3/3 The Column\n",
    "print(neig)"
   ]
  },
  {
   "cell_type": "code",
   "execution_count": null,
   "metadata": {},
   "outputs": [],
   "source": [
    "# Bar plot neighborhood mean sorted (draft v2)\n",
    "plt.bar(*zip(*neig.sort_values(ascending=False).items())) + plt.xticks(rotation=90)\n",
    "plt.show\n"
   ]
  },
  {
   "cell_type": "code",
   "execution_count": null,
   "metadata": {},
   "outputs": [],
   "source": [
    "# Set bounds\n",
    "#BBox = ((df.longitude.min(),   df.longitude.max(), df.latitude.min(), df.latitude.max()))\n",
    "# Import Image\n",
    "#ruh_m = plt.imread('../data/canada/map.png')\n",
    "# Plot Data on Map (Draft v1)\n",
    "#fig, ax = plt.subplots(figsize = (8,7))\n",
    "#ax.scatter(df.longitude, df.latitude, zorder=1, alpha= 0.2, c='b', s=10)\n",
    "#ax.set_title('Plotting Spatial Data on Quebec Map')\n",
    "#ax.set_xlim(BBox[0],BBox[1])\n",
    "#ax.set_ylim(BBox[2],BBox[3])\n",
    "#ax.imshow(ruh_m, zorder=0, extent = BBox, aspect= 'equal')\n"
   ]
  },
  {
   "cell_type": "code",
   "execution_count": null,
   "metadata": {},
   "outputs": [],
   "source": [
    "#linear = cmp.LinearColormap(['Blue', 'Red'], vmin = df.price.min(), vmax=df.price.max())"
   ]
  },
  {
   "cell_type": "code",
   "execution_count": null,
   "metadata": {},
   "outputs": [],
   "source": [
    "# Bar plot of room types' mean price sorted (Working on)\n",
    "sns.barplot(x='room_type', y='price',data=df, order=df.sort_values('room_type').price)"
   ]
  }
 ],
 "metadata": {
  "kernelspec": {
   "display_name": "Python 3.9.12 ('base')",
   "language": "python",
   "name": "python3"
  },
  "language_info": {
   "codemirror_mode": {
    "name": "ipython",
    "version": 3
   },
   "file_extension": ".py",
   "mimetype": "text/x-python",
   "name": "python",
   "nbconvert_exporter": "python",
   "pygments_lexer": "ipython3",
   "version": "3.9.12"
  },
  "orig_nbformat": 4,
  "vscode": {
   "interpreter": {
    "hash": "d4d1e4263499bec80672ea0156c357c1ee493ec2b1c70f0acce89fc37c4a6abe"
   }
  }
 },
 "nbformat": 4,
 "nbformat_minor": 2
}
