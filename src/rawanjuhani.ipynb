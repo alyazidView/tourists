{
 "cells": [
  {
   "cell_type": "markdown",
   "metadata": {},
   "source": [
    "Airbnb is a very popular home-sharing site that takes a unique approach by offering someones's home as a place to stay for travelers from everywhere instead of traditional hotels.\n",
    "\n",
    "in this assignment we were asked to analyise the data and come up with recommendations for an inevstor that is interested in purchasing/building a property in one of the tourist towns near great nature. \n",
    "\n",
    "q: \n",
    "1. what \n",
    "2. what is area is the most expensive?\n",
    "\n",
    "recommendations:\n"
   ]
  },
  {
   "cell_type": "code",
   "execution_count": null,
   "metadata": {},
   "outputs": [],
   "source": [
    "# Libraries\n",
    "import pandas as pd\n",
    "import numpy as np\n",
    "import matplotlib.pyplot as plt\n",
    "import seaborn as sns\n",
    "import statsmodels as sm "
   ]
  },
  {
   "cell_type": "code",
   "execution_count": null,
   "metadata": {},
   "outputs": [],
   "source": [
    "# importing the data of Canada\n",
    "df=pd.read_csv('../data/listings.csv')"
   ]
  },
  {
   "cell_type": "code",
   "execution_count": null,
   "metadata": {},
   "outputs": [],
   "source": [
    "# data exploration\n",
    "# overview:\n",
    "df.info()"
   ]
  },
  {
   "cell_type": "code",
   "execution_count": null,
   "metadata": {},
   "outputs": [],
   "source": [
    "# notice that the 'neighbourhood_group' lack any entries and the 'license' bearly have ones\n",
    "# dropping the mintioned above coulmns \n",
    "df.drop(['neighbourhood_group','license'], axis=1, inplace=True)"
   ]
  },
  {
   "cell_type": "code",
   "execution_count": null,
   "metadata": {},
   "outputs": [],
   "source": [
    "df.head()"
   ]
  },
  {
   "cell_type": "code",
   "execution_count": null,
   "metadata": {},
   "outputs": [],
   "source": [
    "df.room_type.value_counts()"
   ]
  },
  {
   "cell_type": "code",
   "execution_count": null,
   "metadata": {},
   "outputs": [],
   "source": [
    "# 1 finding out the prisest kind of property \n",
    "price_room = df[['price','room_type']].groupby('room_type').mean()\n",
    "price_room = price_room.sort_values('price')\n",
    "print(price_room)\n",
    "# Entire home/apt are the pricest with average equal to 182.132282 canadian dollar\n"
   ]
  },
  {
   "cell_type": "code",
   "execution_count": null,
   "metadata": {},
   "outputs": [],
   "source": [
    "# finding what is the information of the maximum avalable room \n",
    "df.iloc[(df['availability_365'].idxmax())]\n",
    "# 365 is the maximum avalibility"
   ]
  },
  {
   "cell_type": "code",
   "execution_count": null,
   "metadata": {},
   "outputs": [],
   "source": [
    "# 2 finding what nigborhood have the highst count of entier home/apt count\n",
    "price_n = df[['price','neighbourhood']].groupby('neighbourhood').mean()\n",
    "price_n = price_n.sort_values('price')\n",
    "print(price_n)\n",
    "# L'Île-Bizard-Sainte-Geneviève is the pricest neighbourhood with an average equal to 308.717391 canadian dollar"
   ]
  },
  {
   "cell_type": "code",
   "execution_count": null,
   "metadata": {},
   "outputs": [],
   "source": [
    "# grapghs:\n",
    "# 1.1\n",
    "sns.barplot(x='room_type', y='price',data=df)\n",
    "plt.title('room type and price graph')\n"
   ]
  },
  {
   "cell_type": "markdown",
   "metadata": {},
   "source": [
    "conclusions:\n",
    "- the entire home/apt are the most high priced places to charge guests as well as the most common type.\n",
    "- the average price for Entire home/apt is 182.132282 canadian dollar\n",
    "\n",
    "recommendations:\n",
    "- investing in Entire home/apt and charging around 182 CD sounds like the idel choice"
   ]
  }
 ],
 "metadata": {
  "kernelspec": {
   "display_name": "Python 3.9.12 ('base')",
   "language": "python",
   "name": "python3"
  },
  "language_info": {
   "codemirror_mode": {
    "name": "ipython",
    "version": 3
   },
   "file_extension": ".py",
   "mimetype": "text/x-python",
   "name": "python",
   "nbconvert_exporter": "python",
   "pygments_lexer": "ipython3",
   "version": "3.9.12"
  },
  "orig_nbformat": 4,
  "vscode": {
   "interpreter": {
    "hash": "d4d1e4263499bec80672ea0156c357c1ee493ec2b1c70f0acce89fc37c4a6abe"
   }
  }
 },
 "nbformat": 4,
 "nbformat_minor": 2
}
