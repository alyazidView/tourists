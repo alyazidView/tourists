{
 "cells": [
  {
   "cell_type": "markdown",
   "metadata": {},
   "source": [
    "Airbnb is a very popular home-sharing site that takes a unique approach by offering someones's home as a place to stay for travelers from everywhere instead of traditional hotels.\n",
    "\n",
    "in this assignment we were asked to analyise the data and come up with recommendations for an inevstor that is interested in purchasing/building a property in one of the tourist towns near great nature. \n",
    "\n",
    "q: \n",
    "1. what \n",
    "2. what is area is the most expensive?\n",
    "\n",
    "recommendations:\n"
   ]
  },
  {
   "cell_type": "code",
   "execution_count": 2,
   "metadata": {},
   "outputs": [],
   "source": [
    "# Libraries\n",
    "import pandas as pd\n",
    "import numpy as np\n",
    "import matplotlib.pyplot as plt\n",
    "import seaborn as sns\n",
    "import statsmodels as sm "
   ]
  },
  {
   "cell_type": "code",
   "execution_count": 4,
   "metadata": {},
   "outputs": [],
   "source": [
    "# importing the data of Canada\n",
    "df=pd.read_csv('../data/canada/listings.csv')"
   ]
  },
  {
   "cell_type": "code",
   "execution_count": 5,
   "metadata": {},
   "outputs": [
    {
     "name": "stdout",
     "output_type": "stream",
     "text": [
      "<class 'pandas.core.frame.DataFrame'>\n",
      "RangeIndex: 13621 entries, 0 to 13620\n",
      "Data columns (total 18 columns):\n",
      " #   Column                          Non-Null Count  Dtype  \n",
      "---  ------                          --------------  -----  \n",
      " 0   id                              13621 non-null  int64  \n",
      " 1   name                            13617 non-null  object \n",
      " 2   host_id                         13621 non-null  int64  \n",
      " 3   host_name                       13620 non-null  object \n",
      " 4   neighbourhood_group             0 non-null      float64\n",
      " 5   neighbourhood                   13621 non-null  object \n",
      " 6   latitude                        13621 non-null  float64\n",
      " 7   longitude                       13621 non-null  float64\n",
      " 8   room_type                       13621 non-null  object \n",
      " 9   price                           13621 non-null  int64  \n",
      " 10  minimum_nights                  13621 non-null  int64  \n",
      " 11  number_of_reviews               13621 non-null  int64  \n",
      " 12  last_review                     11047 non-null  object \n",
      " 13  reviews_per_month               11047 non-null  float64\n",
      " 14  calculated_host_listings_count  13621 non-null  int64  \n",
      " 15  availability_365                13621 non-null  int64  \n",
      " 16  number_of_reviews_ltm           13621 non-null  int64  \n",
      " 17  license                         881 non-null    object \n",
      "dtypes: float64(4), int64(8), object(6)\n",
      "memory usage: 1.9+ MB\n"
     ]
    }
   ],
   "source": [
    "# data exploration\n",
    "# overview:\n",
    "df.info()"
   ]
  },
  {
   "cell_type": "code",
   "execution_count": 6,
   "metadata": {},
   "outputs": [],
   "source": [
    "# notice that the 'neighbourhood_group' lack any entries and the 'license' bearly have ones\n",
    "# dropping the mintioned above coulmns \n",
    "df.drop(['neighbourhood_group','license'], axis=1, inplace=True)"
   ]
  },
  {
   "cell_type": "code",
   "execution_count": 8,
   "metadata": {},
   "outputs": [
    {
     "data": {
      "text/html": [
       "<div>\n",
       "<style scoped>\n",
       "    .dataframe tbody tr th:only-of-type {\n",
       "        vertical-align: middle;\n",
       "    }\n",
       "\n",
       "    .dataframe tbody tr th {\n",
       "        vertical-align: top;\n",
       "    }\n",
       "\n",
       "    .dataframe thead th {\n",
       "        text-align: right;\n",
       "    }\n",
       "</style>\n",
       "<table border=\"1\" class=\"dataframe\">\n",
       "  <thead>\n",
       "    <tr style=\"text-align: right;\">\n",
       "      <th></th>\n",
       "      <th>id</th>\n",
       "      <th>name</th>\n",
       "      <th>host_id</th>\n",
       "      <th>host_name</th>\n",
       "      <th>neighbourhood</th>\n",
       "      <th>latitude</th>\n",
       "      <th>longitude</th>\n",
       "      <th>room_type</th>\n",
       "      <th>price</th>\n",
       "      <th>minimum_nights</th>\n",
       "      <th>number_of_reviews</th>\n",
       "      <th>last_review</th>\n",
       "      <th>reviews_per_month</th>\n",
       "      <th>calculated_host_listings_count</th>\n",
       "      <th>availability_365</th>\n",
       "      <th>number_of_reviews_ltm</th>\n",
       "    </tr>\n",
       "  </thead>\n",
       "  <tbody>\n",
       "    <tr>\n",
       "      <th>0</th>\n",
       "      <td>298059</td>\n",
       "      <td>Superb cottage Mile-End Plateau !</td>\n",
       "      <td>1536474</td>\n",
       "      <td>Helene</td>\n",
       "      <td>Le Plateau-Mont-Royal</td>\n",
       "      <td>45.52665</td>\n",
       "      <td>-73.60730</td>\n",
       "      <td>Entire home/apt</td>\n",
       "      <td>180</td>\n",
       "      <td>30</td>\n",
       "      <td>52</td>\n",
       "      <td>2014-10-18</td>\n",
       "      <td>0.40</td>\n",
       "      <td>1</td>\n",
       "      <td>104</td>\n",
       "      <td>0</td>\n",
       "    </tr>\n",
       "    <tr>\n",
       "      <th>1</th>\n",
       "      <td>2843</td>\n",
       "      <td>Fabulous downtown/airport room</td>\n",
       "      <td>2319</td>\n",
       "      <td>Gail</td>\n",
       "      <td>Le Sud-Ouest</td>\n",
       "      <td>45.48496</td>\n",
       "      <td>-73.58001</td>\n",
       "      <td>Private room</td>\n",
       "      <td>60</td>\n",
       "      <td>30</td>\n",
       "      <td>157</td>\n",
       "      <td>2022-08-21</td>\n",
       "      <td>0.97</td>\n",
       "      <td>2</td>\n",
       "      <td>80</td>\n",
       "      <td>5</td>\n",
       "    </tr>\n",
       "    <tr>\n",
       "      <th>2</th>\n",
       "      <td>309367</td>\n",
       "      <td>Charming and Clean ! 5 min Métro</td>\n",
       "      <td>1562348</td>\n",
       "      <td>Virginie</td>\n",
       "      <td>Villeray-Saint-Michel-Parc-Extension</td>\n",
       "      <td>45.55169</td>\n",
       "      <td>-73.60007</td>\n",
       "      <td>Entire home/apt</td>\n",
       "      <td>64</td>\n",
       "      <td>180</td>\n",
       "      <td>22</td>\n",
       "      <td>2015-08-13</td>\n",
       "      <td>0.18</td>\n",
       "      <td>3</td>\n",
       "      <td>74</td>\n",
       "      <td>0</td>\n",
       "    </tr>\n",
       "    <tr>\n",
       "      <th>3</th>\n",
       "      <td>29059</td>\n",
       "      <td>Lovely studio Quartier Latin</td>\n",
       "      <td>125031</td>\n",
       "      <td>Maryline</td>\n",
       "      <td>Ville-Marie</td>\n",
       "      <td>45.51939</td>\n",
       "      <td>-73.56482</td>\n",
       "      <td>Entire home/apt</td>\n",
       "      <td>152</td>\n",
       "      <td>2</td>\n",
       "      <td>385</td>\n",
       "      <td>2022-09-02</td>\n",
       "      <td>2.58</td>\n",
       "      <td>2</td>\n",
       "      <td>306</td>\n",
       "      <td>54</td>\n",
       "    </tr>\n",
       "    <tr>\n",
       "      <th>4</th>\n",
       "      <td>29061</td>\n",
       "      <td>Maison historique - Quartier Latin</td>\n",
       "      <td>125031</td>\n",
       "      <td>Maryline</td>\n",
       "      <td>Ville-Marie</td>\n",
       "      <td>45.51929</td>\n",
       "      <td>-73.56493</td>\n",
       "      <td>Entire home/apt</td>\n",
       "      <td>286</td>\n",
       "      <td>3</td>\n",
       "      <td>108</td>\n",
       "      <td>2022-08-29</td>\n",
       "      <td>0.84</td>\n",
       "      <td>2</td>\n",
       "      <td>250</td>\n",
       "      <td>27</td>\n",
       "    </tr>\n",
       "  </tbody>\n",
       "</table>\n",
       "</div>"
      ],
      "text/plain": [
       "       id                                name  host_id host_name  \\\n",
       "0  298059   Superb cottage Mile-End Plateau !  1536474    Helene   \n",
       "1    2843      Fabulous downtown/airport room     2319      Gail   \n",
       "2  309367    Charming and Clean ! 5 min Métro  1562348  Virginie   \n",
       "3   29059        Lovely studio Quartier Latin   125031  Maryline   \n",
       "4   29061  Maison historique - Quartier Latin   125031  Maryline   \n",
       "\n",
       "                          neighbourhood  latitude  longitude        room_type  \\\n",
       "0                 Le Plateau-Mont-Royal  45.52665  -73.60730  Entire home/apt   \n",
       "1                          Le Sud-Ouest  45.48496  -73.58001     Private room   \n",
       "2  Villeray-Saint-Michel-Parc-Extension  45.55169  -73.60007  Entire home/apt   \n",
       "3                           Ville-Marie  45.51939  -73.56482  Entire home/apt   \n",
       "4                           Ville-Marie  45.51929  -73.56493  Entire home/apt   \n",
       "\n",
       "   price  minimum_nights  number_of_reviews last_review  reviews_per_month  \\\n",
       "0    180              30                 52  2014-10-18               0.40   \n",
       "1     60              30                157  2022-08-21               0.97   \n",
       "2     64             180                 22  2015-08-13               0.18   \n",
       "3    152               2                385  2022-09-02               2.58   \n",
       "4    286               3                108  2022-08-29               0.84   \n",
       "\n",
       "   calculated_host_listings_count  availability_365  number_of_reviews_ltm  \n",
       "0                               1               104                      0  \n",
       "1                               2                80                      5  \n",
       "2                               3                74                      0  \n",
       "3                               2               306                     54  \n",
       "4                               2               250                     27  "
      ]
     },
     "execution_count": 8,
     "metadata": {},
     "output_type": "execute_result"
    }
   ],
   "source": [
    "df.head()"
   ]
  },
  {
   "cell_type": "code",
   "execution_count": 62,
   "metadata": {},
   "outputs": [
    {
     "data": {
      "text/plain": [
       "Entire home/apt    10523\n",
       "Private room        2991\n",
       "Shared room           70\n",
       "Hotel room            37\n",
       "Name: room_type, dtype: int64"
      ]
     },
     "execution_count": 62,
     "metadata": {},
     "output_type": "execute_result"
    }
   ],
   "source": [
    "df.room_type.value_counts()"
   ]
  },
  {
   "cell_type": "code",
   "execution_count": 9,
   "metadata": {},
   "outputs": [
    {
     "name": "stdout",
     "output_type": "stream",
     "text": [
      "                      price\n",
      "room_type                  \n",
      "Shared room       80.585714\n",
      "Private room     124.862922\n",
      "Hotel room       180.027027\n",
      "Entire home/apt  182.132282\n"
     ]
    }
   ],
   "source": [
    "# 1 finding out the prisest kind of property \n",
    "price_room = df[['price','room_type']].groupby('room_type').mean()\n",
    "price_room = price_room.sort_values('price')\n",
    "print(price_room)\n",
    "# Entire home/apt are the pricest with average equal to 182.132282 canadian dollar\n"
   ]
  },
  {
   "cell_type": "code",
   "execution_count": 60,
   "metadata": {},
   "outputs": [
    {
     "data": {
      "text/plain": [
       "id                                                            190003\n",
       "name                              Large sunny room HEARTH of plateau\n",
       "host_id                                                       640693\n",
       "host_name                                                      Marco\n",
       "neighbourhood                                  Le Plateau-Mont-Royal\n",
       "latitude                                                    45.51937\n",
       "longitude                                                  -73.56999\n",
       "room_type                                               Private room\n",
       "price                                                          13294\n",
       "minimum_nights                                                    99\n",
       "number_of_reviews                                                  1\n",
       "last_review                                               2011-08-13\n",
       "reviews_per_month                                               0.01\n",
       "calculated_host_listings_count                                     1\n",
       "availability_365                                                 365\n",
       "number_of_reviews_ltm                                              0\n",
       "Name: 57, dtype: object"
      ]
     },
     "execution_count": 60,
     "metadata": {},
     "output_type": "execute_result"
    }
   ],
   "source": [
    "# finding what is the information of the maximum avalable room \n",
    "df.iloc[(df['availability_365'].idxmax())]\n",
    "# 365 is the maximum avalibility"
   ]
  },
  {
   "cell_type": "code",
   "execution_count": 44,
   "metadata": {},
   "outputs": [
    {
     "name": "stdout",
     "output_type": "stream",
     "text": [
      "                                               price\n",
      "neighbourhood                                       \n",
      "Montréal-Est                               73.000000\n",
      "Montréal-Ouest                             87.100000\n",
      "Anjou                                      87.415094\n",
      "Villeray-Saint-Michel-Parc-Extension       97.604575\n",
      "Ahuntsic-Cartierville                     110.733042\n",
      "Verdun                                    113.399317\n",
      "LaSalle                                   115.560606\n",
      "Sainte-Anne-de-Bellevue                   117.105263\n",
      "Beaconsfield                              118.476190\n",
      "Mont-Royal                                125.173913\n",
      "Montréal-Nord                             128.672727\n",
      "Côte-des-Neiges-Notre-Dame-de-Grâce       128.739346\n",
      "Pointe-Claire                             129.075000\n",
      "Rosemont-La Petite-Patrie                 132.083485\n",
      "Saint-Laurent                             135.157609\n",
      "Saint-Léonard                             137.228070\n",
      "Mercier-Hochelaga-Maisonneuve             140.640584\n",
      "Rivière-des-Prairies-Pointe-aux-Trembles  145.934426\n",
      "Senneville                                151.000000\n",
      "Dollard-des-Ormeaux                       163.593750\n",
      "Côte-Saint-Luc                            170.647059\n",
      "Outremont                                 171.891473\n",
      "Lachine                                   174.509804\n",
      "Dorval                                    185.241379\n",
      "Westmount                                 190.081967\n",
      "Ville-Marie                               190.227530\n",
      "Le Sud-Ouest                              192.594146\n",
      "Le Plateau-Mont-Royal                     200.135021\n",
      "Kirkland                                  205.125000\n",
      "Pierrefonds-Roxboro                       211.231884\n",
      "Hampstead                                 253.111111\n",
      "Baie-d'Urfé                               253.166667\n",
      "L'Île-Bizard-Sainte-Geneviève             308.717391\n"
     ]
    }
   ],
   "source": [
    "# 2 finding what nigborhood have the highst count of entier home/apt count\n",
    "price_n = df[['price','neighbourhood']].groupby('neighbourhood').mean()\n",
    "price_n = price_n.sort_values('price')\n",
    "print(price_n)\n",
    "# L'Île-Bizard-Sainte-Geneviève is the pricest neighbourhood with an average equal to 308.717391 canadian dollar"
   ]
  },
  {
   "cell_type": "code",
   "execution_count": 54,
   "metadata": {},
   "outputs": [
    {
     "data": {
      "text/plain": [
       "Text(0.5, 1.0, 'room type and price graph')"
      ]
     },
     "execution_count": 54,
     "metadata": {},
     "output_type": "execute_result"
    },
    {
     "data": {
      "image/png": "[encoded data removed]",
      "text/plain": [
       "<Figure size 432x288 with 1 Axes>"
      ]
     },
     "metadata": {
      "needs_background": "light"
     },
     "output_type": "display_data"
    }
   ],
   "source": [
    "# grapghs:\n",
    "# 1.1\n",
    "sns.barplot(x='room_type', y='price',data=df)\n",
    "plt.title('room type and price graph')\n"
   ]
  },
  {
   "cell_type": "markdown",
   "metadata": {},
   "source": [
    "conclusions:\n",
    "- the entire home/apt are the most high priced places to charge guests as well as the most common type.\n",
    "- the average price for Entire home/apt is 182.132282 canadian dollar\n",
    "\n",
    "recommendations:\n",
    "- investing in Entire home/apt and charging around 182 CD sounds like the idel choice"
   ]
  }
 ],
 "metadata": {
  "kernelspec": {
   "display_name": "Python 3.9.12 ('base')",
   "language": "python",
   "name": "python3"
  },
  "language_info": {
   "codemirror_mode": {
    "name": "ipython",
    "version": 3
   },
   "file_extension": ".py",
   "mimetype": "text/x-python",
   "name": "python",
   "nbconvert_exporter": "python",
   "pygments_lexer": "ipython3",
   "version": "3.9.12"
  },
  "orig_nbformat": 4,
  "vscode": {
   "interpreter": {
    "hash": "d4d1e4263499bec80672ea0156c357c1ee493ec2b1c70f0acce89fc37c4a6abe"
   }
  }
 },
 "nbformat": 4,
 "nbformat_minor": 2
}
